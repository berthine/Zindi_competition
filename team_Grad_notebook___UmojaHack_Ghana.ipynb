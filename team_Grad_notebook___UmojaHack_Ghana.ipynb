{
  "nbformat": 4,
  "nbformat_minor": 0,
  "metadata": {
    "kernelspec": {
      "display_name": "Python 3",
      "language": "python",
      "name": "python3"
    },
    "language_info": {
      "codemirror_mode": {
        "name": "ipython",
        "version": 3
      },
      "file_extension": ".py",
      "mimetype": "text/x-python",
      "name": "python",
      "nbconvert_exporter": "python",
      "pygments_lexer": "ipython3",
      "version": "3.7.4"
    },
    "colab": {
      "name": "team_Grad_notebook_-_UmojaHack_Ghana.ipynb",
      "provenance": [],
      "include_colab_link": true
    }
  },
  "cells": [
    {
      "cell_type": "markdown",
      "metadata": {
        "id": "view-in-github",
        "colab_type": "text"
      },
      "source": [
        "<a href=\"https://colab.research.google.com/github/berthine/Zindi_competition/blob/master/team_Grad_notebook___UmojaHack_Ghana.ipynb\" target=\"_parent\"><img src=\"https://colab.research.google.com/assets/colab-badge.svg\" alt=\"Open In Colab\"/></a>"
      ]
    },
    {
      "cell_type": "code",
      "metadata": {
        "id": "9KccKqUkQgQy",
        "colab_type": "code",
        "colab": {}
      },
      "source": [
        "#Import some libraries\n",
        "import pandas as pd\n",
        "import numpy as np\n",
        "import matplotlib.pyplot as plt\n",
        "from pylab import rcParams\n",
        "import seaborn as sb\n",
        "sb.set_style('darkgrid')\n",
        "rcParams['figure.figsize'] = 8,8\n",
        "import warnings\n",
        "warnings.filterwarnings(\"ignore\")\n",
        "%matplotlib inline"
      ],
      "execution_count": null,
      "outputs": []
    },
    {
      "cell_type": "code",
      "metadata": {
        "id": "ut6A_VDrQgRA",
        "colab_type": "code",
        "colab": {}
      },
      "source": [
        "#import data\n",
        "train = pd.read_csv('Train.csv')\n",
        "test=  pd.read_csv('Test.csv')\n",
        "submission = pd.read_csv('SampleSubmission.csv')"
      ],
      "execution_count": null,
      "outputs": []
    },
    {
      "cell_type": "code",
      "metadata": {
        "id": "M5CVAfvJQgRN",
        "colab_type": "code",
        "colab": {},
        "outputId": "9cd4e9e2-f9df-45c7-9973-65bc0eca1918"
      },
      "source": [
        "train.head()"
      ],
      "execution_count": null,
      "outputs": [
        {
          "output_type": "execute_result",
          "data": {
            "text/html": [
              "<div>\n",
              "<style scoped>\n",
              "    .dataframe tbody tr th:only-of-type {\n",
              "        vertical-align: middle;\n",
              "    }\n",
              "\n",
              "    .dataframe tbody tr th {\n",
              "        vertical-align: top;\n",
              "    }\n",
              "\n",
              "    .dataframe thead th {\n",
              "        text-align: right;\n",
              "    }\n",
              "</style>\n",
              "<table border=\"1\" class=\"dataframe\">\n",
              "  <thead>\n",
              "    <tr style=\"text-align: right;\">\n",
              "      <th></th>\n",
              "      <th>user_id</th>\n",
              "      <th>REGION</th>\n",
              "      <th>TENURE</th>\n",
              "      <th>MONTANT</th>\n",
              "      <th>FREQUENCE_RECH</th>\n",
              "      <th>REVENUE</th>\n",
              "      <th>ARPU_SEGMENT</th>\n",
              "      <th>FREQUENCE</th>\n",
              "      <th>DATA_VOLUME</th>\n",
              "      <th>ON_NET</th>\n",
              "      <th>ORANGE</th>\n",
              "      <th>TIGO</th>\n",
              "      <th>ZONE1</th>\n",
              "      <th>ZONE2</th>\n",
              "      <th>MRG</th>\n",
              "      <th>REGULARITY</th>\n",
              "      <th>TOP_PACK</th>\n",
              "      <th>FREQ_TOP_PACK</th>\n",
              "      <th>CHURN</th>\n",
              "    </tr>\n",
              "  </thead>\n",
              "  <tbody>\n",
              "    <tr>\n",
              "      <th>0</th>\n",
              "      <td>00000bfd7d50f01092811bc0c8d7b0d6fe7c3596</td>\n",
              "      <td>FATICK</td>\n",
              "      <td>K &gt; 24 month</td>\n",
              "      <td>4250.0</td>\n",
              "      <td>15.0</td>\n",
              "      <td>4251.0</td>\n",
              "      <td>1417.0</td>\n",
              "      <td>17.0</td>\n",
              "      <td>4.0</td>\n",
              "      <td>388.0</td>\n",
              "      <td>46.0</td>\n",
              "      <td>1.0</td>\n",
              "      <td>1.0</td>\n",
              "      <td>2.0</td>\n",
              "      <td>NO</td>\n",
              "      <td>54</td>\n",
              "      <td>On net 200F=Unlimited _call24H</td>\n",
              "      <td>8.0</td>\n",
              "      <td>0</td>\n",
              "    </tr>\n",
              "    <tr>\n",
              "      <th>1</th>\n",
              "      <td>00000cb4a5d760de88fecb38e2f71b7bec52e834</td>\n",
              "      <td>NaN</td>\n",
              "      <td>I 18-21 month</td>\n",
              "      <td>NaN</td>\n",
              "      <td>NaN</td>\n",
              "      <td>NaN</td>\n",
              "      <td>NaN</td>\n",
              "      <td>NaN</td>\n",
              "      <td>NaN</td>\n",
              "      <td>NaN</td>\n",
              "      <td>NaN</td>\n",
              "      <td>NaN</td>\n",
              "      <td>NaN</td>\n",
              "      <td>NaN</td>\n",
              "      <td>NO</td>\n",
              "      <td>4</td>\n",
              "      <td>NaN</td>\n",
              "      <td>NaN</td>\n",
              "      <td>1</td>\n",
              "    </tr>\n",
              "    <tr>\n",
              "      <th>2</th>\n",
              "      <td>00001654a9d9f96303d9969d0a4a851714a4bb57</td>\n",
              "      <td>NaN</td>\n",
              "      <td>K &gt; 24 month</td>\n",
              "      <td>3600.0</td>\n",
              "      <td>2.0</td>\n",
              "      <td>1020.0</td>\n",
              "      <td>340.0</td>\n",
              "      <td>2.0</td>\n",
              "      <td>NaN</td>\n",
              "      <td>90.0</td>\n",
              "      <td>46.0</td>\n",
              "      <td>7.0</td>\n",
              "      <td>NaN</td>\n",
              "      <td>NaN</td>\n",
              "      <td>NO</td>\n",
              "      <td>17</td>\n",
              "      <td>On-net 1000F=10MilF;10d</td>\n",
              "      <td>1.0</td>\n",
              "      <td>0</td>\n",
              "    </tr>\n",
              "    <tr>\n",
              "      <th>3</th>\n",
              "      <td>00001dd6fa45f7ba044bd5d84937be464ce78ac2</td>\n",
              "      <td>DAKAR</td>\n",
              "      <td>K &gt; 24 month</td>\n",
              "      <td>13500.0</td>\n",
              "      <td>15.0</td>\n",
              "      <td>13502.0</td>\n",
              "      <td>4501.0</td>\n",
              "      <td>18.0</td>\n",
              "      <td>43804.0</td>\n",
              "      <td>41.0</td>\n",
              "      <td>102.0</td>\n",
              "      <td>2.0</td>\n",
              "      <td>NaN</td>\n",
              "      <td>NaN</td>\n",
              "      <td>NO</td>\n",
              "      <td>62</td>\n",
              "      <td>Data:1000F=5GB,7d</td>\n",
              "      <td>11.0</td>\n",
              "      <td>0</td>\n",
              "    </tr>\n",
              "    <tr>\n",
              "      <th>4</th>\n",
              "      <td>000028d9e13a595abe061f9b58f3d76ab907850f</td>\n",
              "      <td>DAKAR</td>\n",
              "      <td>K &gt; 24 month</td>\n",
              "      <td>1000.0</td>\n",
              "      <td>1.0</td>\n",
              "      <td>985.0</td>\n",
              "      <td>328.0</td>\n",
              "      <td>1.0</td>\n",
              "      <td>NaN</td>\n",
              "      <td>39.0</td>\n",
              "      <td>24.0</td>\n",
              "      <td>NaN</td>\n",
              "      <td>NaN</td>\n",
              "      <td>NaN</td>\n",
              "      <td>NO</td>\n",
              "      <td>11</td>\n",
              "      <td>Mixt 250F=Unlimited_call24H</td>\n",
              "      <td>2.0</td>\n",
              "      <td>0</td>\n",
              "    </tr>\n",
              "  </tbody>\n",
              "</table>\n",
              "</div>"
            ],
            "text/plain": [
              "                                    user_id  REGION         TENURE  MONTANT  \\\n",
              "0  00000bfd7d50f01092811bc0c8d7b0d6fe7c3596  FATICK   K > 24 month   4250.0   \n",
              "1  00000cb4a5d760de88fecb38e2f71b7bec52e834     NaN  I 18-21 month      NaN   \n",
              "2  00001654a9d9f96303d9969d0a4a851714a4bb57     NaN   K > 24 month   3600.0   \n",
              "3  00001dd6fa45f7ba044bd5d84937be464ce78ac2   DAKAR   K > 24 month  13500.0   \n",
              "4  000028d9e13a595abe061f9b58f3d76ab907850f   DAKAR   K > 24 month   1000.0   \n",
              "\n",
              "   FREQUENCE_RECH  REVENUE  ARPU_SEGMENT  FREQUENCE  DATA_VOLUME  ON_NET  \\\n",
              "0            15.0   4251.0        1417.0       17.0          4.0   388.0   \n",
              "1             NaN      NaN           NaN        NaN          NaN     NaN   \n",
              "2             2.0   1020.0         340.0        2.0          NaN    90.0   \n",
              "3            15.0  13502.0        4501.0       18.0      43804.0    41.0   \n",
              "4             1.0    985.0         328.0        1.0          NaN    39.0   \n",
              "\n",
              "   ORANGE  TIGO  ZONE1  ZONE2 MRG  REGULARITY                        TOP_PACK  \\\n",
              "0    46.0   1.0    1.0    2.0  NO          54  On net 200F=Unlimited _call24H   \n",
              "1     NaN   NaN    NaN    NaN  NO           4                             NaN   \n",
              "2    46.0   7.0    NaN    NaN  NO          17         On-net 1000F=10MilF;10d   \n",
              "3   102.0   2.0    NaN    NaN  NO          62               Data:1000F=5GB,7d   \n",
              "4    24.0   NaN    NaN    NaN  NO          11     Mixt 250F=Unlimited_call24H   \n",
              "\n",
              "   FREQ_TOP_PACK  CHURN  \n",
              "0            8.0      0  \n",
              "1            NaN      1  \n",
              "2            1.0      0  \n",
              "3           11.0      0  \n",
              "4            2.0      0  "
            ]
          },
          "metadata": {
            "tags": []
          },
          "execution_count": 177
        }
      ]
    },
    {
      "cell_type": "code",
      "metadata": {
        "id": "emeh3mNnQgRX",
        "colab_type": "code",
        "colab": {},
        "outputId": "811b8cc7-a152-4836-9a9a-7e8174ba0741"
      },
      "source": [
        "train.tail()"
      ],
      "execution_count": null,
      "outputs": [
        {
          "output_type": "execute_result",
          "data": {
            "text/html": [
              "<div>\n",
              "<style scoped>\n",
              "    .dataframe tbody tr th:only-of-type {\n",
              "        vertical-align: middle;\n",
              "    }\n",
              "\n",
              "    .dataframe tbody tr th {\n",
              "        vertical-align: top;\n",
              "    }\n",
              "\n",
              "    .dataframe thead th {\n",
              "        text-align: right;\n",
              "    }\n",
              "</style>\n",
              "<table border=\"1\" class=\"dataframe\">\n",
              "  <thead>\n",
              "    <tr style=\"text-align: right;\">\n",
              "      <th></th>\n",
              "      <th>user_id</th>\n",
              "      <th>REGION</th>\n",
              "      <th>TENURE</th>\n",
              "      <th>MONTANT</th>\n",
              "      <th>FREQUENCE_RECH</th>\n",
              "      <th>REVENUE</th>\n",
              "      <th>ARPU_SEGMENT</th>\n",
              "      <th>FREQUENCE</th>\n",
              "      <th>DATA_VOLUME</th>\n",
              "      <th>ON_NET</th>\n",
              "      <th>ORANGE</th>\n",
              "      <th>TIGO</th>\n",
              "      <th>ZONE1</th>\n",
              "      <th>ZONE2</th>\n",
              "      <th>MRG</th>\n",
              "      <th>REGULARITY</th>\n",
              "      <th>TOP_PACK</th>\n",
              "      <th>FREQ_TOP_PACK</th>\n",
              "      <th>CHURN</th>\n",
              "    </tr>\n",
              "  </thead>\n",
              "  <tbody>\n",
              "    <tr>\n",
              "      <th>2154043</th>\n",
              "      <td>ffffe85215ddc71a84f95af0afb0deeea90e6967</td>\n",
              "      <td>NaN</td>\n",
              "      <td>K &gt; 24 month</td>\n",
              "      <td>NaN</td>\n",
              "      <td>NaN</td>\n",
              "      <td>NaN</td>\n",
              "      <td>NaN</td>\n",
              "      <td>NaN</td>\n",
              "      <td>NaN</td>\n",
              "      <td>NaN</td>\n",
              "      <td>NaN</td>\n",
              "      <td>NaN</td>\n",
              "      <td>NaN</td>\n",
              "      <td>NaN</td>\n",
              "      <td>NO</td>\n",
              "      <td>6</td>\n",
              "      <td>NaN</td>\n",
              "      <td>NaN</td>\n",
              "      <td>0</td>\n",
              "    </tr>\n",
              "    <tr>\n",
              "      <th>2154044</th>\n",
              "      <td>ffffeaaa9289cdba0ac000f0ab4b48f4aa74ed15</td>\n",
              "      <td>THIES</td>\n",
              "      <td>K &gt; 24 month</td>\n",
              "      <td>6100.0</td>\n",
              "      <td>15.0</td>\n",
              "      <td>5800.0</td>\n",
              "      <td>1933.0</td>\n",
              "      <td>15.0</td>\n",
              "      <td>621.0</td>\n",
              "      <td>26.0</td>\n",
              "      <td>40.0</td>\n",
              "      <td>40.0</td>\n",
              "      <td>NaN</td>\n",
              "      <td>NaN</td>\n",
              "      <td>NO</td>\n",
              "      <td>55</td>\n",
              "      <td>Data: 200 F=100MB,24H</td>\n",
              "      <td>9.0</td>\n",
              "      <td>0</td>\n",
              "    </tr>\n",
              "    <tr>\n",
              "      <th>2154045</th>\n",
              "      <td>fffff172fda1b4bb38a95385951908bb92379809</td>\n",
              "      <td>NaN</td>\n",
              "      <td>K &gt; 24 month</td>\n",
              "      <td>NaN</td>\n",
              "      <td>NaN</td>\n",
              "      <td>NaN</td>\n",
              "      <td>NaN</td>\n",
              "      <td>NaN</td>\n",
              "      <td>NaN</td>\n",
              "      <td>NaN</td>\n",
              "      <td>NaN</td>\n",
              "      <td>NaN</td>\n",
              "      <td>NaN</td>\n",
              "      <td>NaN</td>\n",
              "      <td>NO</td>\n",
              "      <td>1</td>\n",
              "      <td>NaN</td>\n",
              "      <td>NaN</td>\n",
              "      <td>1</td>\n",
              "    </tr>\n",
              "    <tr>\n",
              "      <th>2154046</th>\n",
              "      <td>fffff5911296937a37f09a37a549da2e0dad6dbb</td>\n",
              "      <td>THIES</td>\n",
              "      <td>K &gt; 24 month</td>\n",
              "      <td>10000.0</td>\n",
              "      <td>11.0</td>\n",
              "      <td>7120.0</td>\n",
              "      <td>2373.0</td>\n",
              "      <td>13.0</td>\n",
              "      <td>NaN</td>\n",
              "      <td>0.0</td>\n",
              "      <td>140.0</td>\n",
              "      <td>13.0</td>\n",
              "      <td>NaN</td>\n",
              "      <td>NaN</td>\n",
              "      <td>NO</td>\n",
              "      <td>28</td>\n",
              "      <td>All-net 500F=2000F;5d</td>\n",
              "      <td>12.0</td>\n",
              "      <td>0</td>\n",
              "    </tr>\n",
              "    <tr>\n",
              "      <th>2154047</th>\n",
              "      <td>fffff6dbff1508ea2bfe814e5ab2729ce6b788c2</td>\n",
              "      <td>NaN</td>\n",
              "      <td>K &gt; 24 month</td>\n",
              "      <td>NaN</td>\n",
              "      <td>NaN</td>\n",
              "      <td>NaN</td>\n",
              "      <td>NaN</td>\n",
              "      <td>NaN</td>\n",
              "      <td>2.0</td>\n",
              "      <td>NaN</td>\n",
              "      <td>NaN</td>\n",
              "      <td>NaN</td>\n",
              "      <td>NaN</td>\n",
              "      <td>NaN</td>\n",
              "      <td>NO</td>\n",
              "      <td>62</td>\n",
              "      <td>NaN</td>\n",
              "      <td>NaN</td>\n",
              "      <td>1</td>\n",
              "    </tr>\n",
              "  </tbody>\n",
              "</table>\n",
              "</div>"
            ],
            "text/plain": [
              "                                          user_id REGION        TENURE  \\\n",
              "2154043  ffffe85215ddc71a84f95af0afb0deeea90e6967    NaN  K > 24 month   \n",
              "2154044  ffffeaaa9289cdba0ac000f0ab4b48f4aa74ed15  THIES  K > 24 month   \n",
              "2154045  fffff172fda1b4bb38a95385951908bb92379809    NaN  K > 24 month   \n",
              "2154046  fffff5911296937a37f09a37a549da2e0dad6dbb  THIES  K > 24 month   \n",
              "2154047  fffff6dbff1508ea2bfe814e5ab2729ce6b788c2    NaN  K > 24 month   \n",
              "\n",
              "         MONTANT  FREQUENCE_RECH  REVENUE  ARPU_SEGMENT  FREQUENCE  \\\n",
              "2154043      NaN             NaN      NaN           NaN        NaN   \n",
              "2154044   6100.0            15.0   5800.0        1933.0       15.0   \n",
              "2154045      NaN             NaN      NaN           NaN        NaN   \n",
              "2154046  10000.0            11.0   7120.0        2373.0       13.0   \n",
              "2154047      NaN             NaN      NaN           NaN        NaN   \n",
              "\n",
              "         DATA_VOLUME  ON_NET  ORANGE  TIGO  ZONE1  ZONE2 MRG  REGULARITY  \\\n",
              "2154043          NaN     NaN     NaN   NaN    NaN    NaN  NO           6   \n",
              "2154044        621.0    26.0    40.0  40.0    NaN    NaN  NO          55   \n",
              "2154045          NaN     NaN     NaN   NaN    NaN    NaN  NO           1   \n",
              "2154046          NaN     0.0   140.0  13.0    NaN    NaN  NO          28   \n",
              "2154047          2.0     NaN     NaN   NaN    NaN    NaN  NO          62   \n",
              "\n",
              "                      TOP_PACK  FREQ_TOP_PACK  CHURN  \n",
              "2154043                    NaN            NaN      0  \n",
              "2154044  Data: 200 F=100MB,24H            9.0      0  \n",
              "2154045                    NaN            NaN      1  \n",
              "2154046  All-net 500F=2000F;5d           12.0      0  \n",
              "2154047                    NaN            NaN      1  "
            ]
          },
          "metadata": {
            "tags": []
          },
          "execution_count": 178
        }
      ]
    },
    {
      "cell_type": "code",
      "metadata": {
        "id": "1QdZPrbMQgRd",
        "colab_type": "code",
        "colab": {},
        "outputId": "079f7eec-997d-49f2-b2b1-6eb8f4ce3409"
      },
      "source": [
        "train.shape"
      ],
      "execution_count": null,
      "outputs": [
        {
          "output_type": "execute_result",
          "data": {
            "text/plain": [
              "(2154048, 19)"
            ]
          },
          "metadata": {
            "tags": []
          },
          "execution_count": 179
        }
      ]
    },
    {
      "cell_type": "code",
      "metadata": {
        "id": "c26Z4imAQgRl",
        "colab_type": "code",
        "colab": {},
        "outputId": "3353897c-9c33-4dfd-c0f9-c5007e5c4bfb"
      },
      "source": [
        "#view the data types in the train data\n",
        "train.info()"
      ],
      "execution_count": null,
      "outputs": [
        {
          "output_type": "stream",
          "text": [
            "<class 'pandas.core.frame.DataFrame'>\n",
            "RangeIndex: 2154048 entries, 0 to 2154047\n",
            "Data columns (total 19 columns):\n",
            "user_id           object\n",
            "REGION            object\n",
            "TENURE            object\n",
            "MONTANT           float64\n",
            "FREQUENCE_RECH    float64\n",
            "REVENUE           float64\n",
            "ARPU_SEGMENT      float64\n",
            "FREQUENCE         float64\n",
            "DATA_VOLUME       float64\n",
            "ON_NET            float64\n",
            "ORANGE            float64\n",
            "TIGO              float64\n",
            "ZONE1             float64\n",
            "ZONE2             float64\n",
            "MRG               object\n",
            "REGULARITY        int64\n",
            "TOP_PACK          object\n",
            "FREQ_TOP_PACK     float64\n",
            "CHURN             int64\n",
            "dtypes: float64(12), int64(2), object(5)\n",
            "memory usage: 312.2+ MB\n"
          ],
          "name": "stdout"
        }
      ]
    },
    {
      "cell_type": "code",
      "metadata": {
        "id": "PLKRTYRZQgRs",
        "colab_type": "code",
        "colab": {},
        "outputId": "0162d482-d4ed-43d3-9466-f381f8e2ad8b"
      },
      "source": [
        "test.head()"
      ],
      "execution_count": null,
      "outputs": [
        {
          "output_type": "execute_result",
          "data": {
            "text/html": [
              "<div>\n",
              "<style scoped>\n",
              "    .dataframe tbody tr th:only-of-type {\n",
              "        vertical-align: middle;\n",
              "    }\n",
              "\n",
              "    .dataframe tbody tr th {\n",
              "        vertical-align: top;\n",
              "    }\n",
              "\n",
              "    .dataframe thead th {\n",
              "        text-align: right;\n",
              "    }\n",
              "</style>\n",
              "<table border=\"1\" class=\"dataframe\">\n",
              "  <thead>\n",
              "    <tr style=\"text-align: right;\">\n",
              "      <th></th>\n",
              "      <th>user_id</th>\n",
              "      <th>REGION</th>\n",
              "      <th>TENURE</th>\n",
              "      <th>MONTANT</th>\n",
              "      <th>FREQUENCE_RECH</th>\n",
              "      <th>REVENUE</th>\n",
              "      <th>ARPU_SEGMENT</th>\n",
              "      <th>FREQUENCE</th>\n",
              "      <th>DATA_VOLUME</th>\n",
              "      <th>ON_NET</th>\n",
              "      <th>ORANGE</th>\n",
              "      <th>TIGO</th>\n",
              "      <th>ZONE1</th>\n",
              "      <th>ZONE2</th>\n",
              "      <th>MRG</th>\n",
              "      <th>REGULARITY</th>\n",
              "      <th>TOP_PACK</th>\n",
              "      <th>FREQ_TOP_PACK</th>\n",
              "    </tr>\n",
              "  </thead>\n",
              "  <tbody>\n",
              "    <tr>\n",
              "      <th>0</th>\n",
              "      <td>00001dbe00e56fc4b1c1b65dda63de2a5ece55f9</td>\n",
              "      <td>THIES</td>\n",
              "      <td>K &gt; 24 month</td>\n",
              "      <td>5000.0</td>\n",
              "      <td>5.0</td>\n",
              "      <td>5000.0</td>\n",
              "      <td>1667.0</td>\n",
              "      <td>5.0</td>\n",
              "      <td>NaN</td>\n",
              "      <td>378.0</td>\n",
              "      <td>11.0</td>\n",
              "      <td>5.0</td>\n",
              "      <td>NaN</td>\n",
              "      <td>NaN</td>\n",
              "      <td>NO</td>\n",
              "      <td>42</td>\n",
              "      <td>On-net 1000F=10MilF;10d</td>\n",
              "      <td>5.0</td>\n",
              "    </tr>\n",
              "    <tr>\n",
              "      <th>1</th>\n",
              "      <td>000055d41c8a62052dd426592e8a4a3342bf565d</td>\n",
              "      <td>NaN</td>\n",
              "      <td>I 18-21 month</td>\n",
              "      <td>300.0</td>\n",
              "      <td>2.0</td>\n",
              "      <td>326.0</td>\n",
              "      <td>109.0</td>\n",
              "      <td>3.0</td>\n",
              "      <td>397.0</td>\n",
              "      <td>NaN</td>\n",
              "      <td>0.0</td>\n",
              "      <td>NaN</td>\n",
              "      <td>NaN</td>\n",
              "      <td>NaN</td>\n",
              "      <td>NO</td>\n",
              "      <td>41</td>\n",
              "      <td>Data: 100 F=40MB,24H</td>\n",
              "      <td>1.0</td>\n",
              "    </tr>\n",
              "    <tr>\n",
              "      <th>2</th>\n",
              "      <td>000081dd3245e6869a4a9c574c7050e7bb84c2c8</td>\n",
              "      <td>DAKAR</td>\n",
              "      <td>K &gt; 24 month</td>\n",
              "      <td>3300.0</td>\n",
              "      <td>25.0</td>\n",
              "      <td>3400.0</td>\n",
              "      <td>1133.0</td>\n",
              "      <td>26.0</td>\n",
              "      <td>7150.0</td>\n",
              "      <td>0.0</td>\n",
              "      <td>2.0</td>\n",
              "      <td>5.0</td>\n",
              "      <td>NaN</td>\n",
              "      <td>NaN</td>\n",
              "      <td>NO</td>\n",
              "      <td>57</td>\n",
              "      <td>Data: 100 F=40MB,24H</td>\n",
              "      <td>22.0</td>\n",
              "    </tr>\n",
              "    <tr>\n",
              "      <th>3</th>\n",
              "      <td>0000b76d2145d9445d9ff6b65c9ebc4196c89337</td>\n",
              "      <td>NaN</td>\n",
              "      <td>K &gt; 24 month</td>\n",
              "      <td>NaN</td>\n",
              "      <td>NaN</td>\n",
              "      <td>NaN</td>\n",
              "      <td>NaN</td>\n",
              "      <td>NaN</td>\n",
              "      <td>NaN</td>\n",
              "      <td>NaN</td>\n",
              "      <td>NaN</td>\n",
              "      <td>NaN</td>\n",
              "      <td>NaN</td>\n",
              "      <td>NaN</td>\n",
              "      <td>NO</td>\n",
              "      <td>9</td>\n",
              "      <td>NaN</td>\n",
              "      <td>NaN</td>\n",
              "    </tr>\n",
              "    <tr>\n",
              "      <th>4</th>\n",
              "      <td>0000bae5480628cf8fe51ad84bcb39772fc79224</td>\n",
              "      <td>NaN</td>\n",
              "      <td>K &gt; 24 month</td>\n",
              "      <td>NaN</td>\n",
              "      <td>NaN</td>\n",
              "      <td>NaN</td>\n",
              "      <td>NaN</td>\n",
              "      <td>NaN</td>\n",
              "      <td>NaN</td>\n",
              "      <td>NaN</td>\n",
              "      <td>NaN</td>\n",
              "      <td>NaN</td>\n",
              "      <td>NaN</td>\n",
              "      <td>NaN</td>\n",
              "      <td>NO</td>\n",
              "      <td>10</td>\n",
              "      <td>NaN</td>\n",
              "      <td>NaN</td>\n",
              "    </tr>\n",
              "  </tbody>\n",
              "</table>\n",
              "</div>"
            ],
            "text/plain": [
              "                                    user_id REGION         TENURE  MONTANT  \\\n",
              "0  00001dbe00e56fc4b1c1b65dda63de2a5ece55f9  THIES   K > 24 month   5000.0   \n",
              "1  000055d41c8a62052dd426592e8a4a3342bf565d    NaN  I 18-21 month    300.0   \n",
              "2  000081dd3245e6869a4a9c574c7050e7bb84c2c8  DAKAR   K > 24 month   3300.0   \n",
              "3  0000b76d2145d9445d9ff6b65c9ebc4196c89337    NaN   K > 24 month      NaN   \n",
              "4  0000bae5480628cf8fe51ad84bcb39772fc79224    NaN   K > 24 month      NaN   \n",
              "\n",
              "   FREQUENCE_RECH  REVENUE  ARPU_SEGMENT  FREQUENCE  DATA_VOLUME  ON_NET  \\\n",
              "0             5.0   5000.0        1667.0        5.0          NaN   378.0   \n",
              "1             2.0    326.0         109.0        3.0        397.0     NaN   \n",
              "2            25.0   3400.0        1133.0       26.0       7150.0     0.0   \n",
              "3             NaN      NaN           NaN        NaN          NaN     NaN   \n",
              "4             NaN      NaN           NaN        NaN          NaN     NaN   \n",
              "\n",
              "   ORANGE  TIGO  ZONE1  ZONE2 MRG  REGULARITY                 TOP_PACK  \\\n",
              "0    11.0   5.0    NaN    NaN  NO          42  On-net 1000F=10MilF;10d   \n",
              "1     0.0   NaN    NaN    NaN  NO          41     Data: 100 F=40MB,24H   \n",
              "2     2.0   5.0    NaN    NaN  NO          57     Data: 100 F=40MB,24H   \n",
              "3     NaN   NaN    NaN    NaN  NO           9                      NaN   \n",
              "4     NaN   NaN    NaN    NaN  NO          10                      NaN   \n",
              "\n",
              "   FREQ_TOP_PACK  \n",
              "0            5.0  \n",
              "1            1.0  \n",
              "2           22.0  \n",
              "3            NaN  \n",
              "4            NaN  "
            ]
          },
          "metadata": {
            "tags": []
          },
          "execution_count": 181
        }
      ]
    },
    {
      "cell_type": "code",
      "metadata": {
        "id": "7CVluW5wQgRy",
        "colab_type": "code",
        "colab": {},
        "outputId": "3bdd9c78-5c97-4fef-ea19-635db1dc6174"
      },
      "source": [
        "test.tail()"
      ],
      "execution_count": null,
      "outputs": [
        {
          "output_type": "execute_result",
          "data": {
            "text/html": [
              "<div>\n",
              "<style scoped>\n",
              "    .dataframe tbody tr th:only-of-type {\n",
              "        vertical-align: middle;\n",
              "    }\n",
              "\n",
              "    .dataframe tbody tr th {\n",
              "        vertical-align: top;\n",
              "    }\n",
              "\n",
              "    .dataframe thead th {\n",
              "        text-align: right;\n",
              "    }\n",
              "</style>\n",
              "<table border=\"1\" class=\"dataframe\">\n",
              "  <thead>\n",
              "    <tr style=\"text-align: right;\">\n",
              "      <th></th>\n",
              "      <th>user_id</th>\n",
              "      <th>REGION</th>\n",
              "      <th>TENURE</th>\n",
              "      <th>MONTANT</th>\n",
              "      <th>FREQUENCE_RECH</th>\n",
              "      <th>REVENUE</th>\n",
              "      <th>ARPU_SEGMENT</th>\n",
              "      <th>FREQUENCE</th>\n",
              "      <th>DATA_VOLUME</th>\n",
              "      <th>ON_NET</th>\n",
              "      <th>ORANGE</th>\n",
              "      <th>TIGO</th>\n",
              "      <th>ZONE1</th>\n",
              "      <th>ZONE2</th>\n",
              "      <th>MRG</th>\n",
              "      <th>REGULARITY</th>\n",
              "      <th>TOP_PACK</th>\n",
              "      <th>FREQ_TOP_PACK</th>\n",
              "    </tr>\n",
              "  </thead>\n",
              "  <tbody>\n",
              "    <tr>\n",
              "      <th>380122</th>\n",
              "      <td>fffe7e03c7eede2ad0a728ee516c4d342dd16107</td>\n",
              "      <td>DAKAR</td>\n",
              "      <td>K &gt; 24 month</td>\n",
              "      <td>4000.0</td>\n",
              "      <td>8.0</td>\n",
              "      <td>3999.0</td>\n",
              "      <td>1333.0</td>\n",
              "      <td>8.0</td>\n",
              "      <td>1587.0</td>\n",
              "      <td>26.0</td>\n",
              "      <td>250.0</td>\n",
              "      <td>1.0</td>\n",
              "      <td>NaN</td>\n",
              "      <td>NaN</td>\n",
              "      <td>NO</td>\n",
              "      <td>53</td>\n",
              "      <td>Mixt 250F=Unlimited_call24H</td>\n",
              "      <td>5.0</td>\n",
              "    </tr>\n",
              "    <tr>\n",
              "      <th>380123</th>\n",
              "      <td>fffec230e6a1aa51ab37d0051ece42de611e71c6</td>\n",
              "      <td>NaN</td>\n",
              "      <td>K &gt; 24 month</td>\n",
              "      <td>NaN</td>\n",
              "      <td>NaN</td>\n",
              "      <td>NaN</td>\n",
              "      <td>NaN</td>\n",
              "      <td>NaN</td>\n",
              "      <td>NaN</td>\n",
              "      <td>NaN</td>\n",
              "      <td>NaN</td>\n",
              "      <td>NaN</td>\n",
              "      <td>NaN</td>\n",
              "      <td>NaN</td>\n",
              "      <td>NO</td>\n",
              "      <td>1</td>\n",
              "      <td>NaN</td>\n",
              "      <td>NaN</td>\n",
              "    </tr>\n",
              "    <tr>\n",
              "      <th>380124</th>\n",
              "      <td>ffff0dcc1ab9812bf205b6d76e9d084053cd96f5</td>\n",
              "      <td>NaN</td>\n",
              "      <td>K &gt; 24 month</td>\n",
              "      <td>3950.0</td>\n",
              "      <td>7.0</td>\n",
              "      <td>3949.0</td>\n",
              "      <td>1316.0</td>\n",
              "      <td>10.0</td>\n",
              "      <td>1724.0</td>\n",
              "      <td>25.0</td>\n",
              "      <td>71.0</td>\n",
              "      <td>NaN</td>\n",
              "      <td>NaN</td>\n",
              "      <td>NaN</td>\n",
              "      <td>NO</td>\n",
              "      <td>15</td>\n",
              "      <td>IVR Echat_Daily_50F</td>\n",
              "      <td>6.0</td>\n",
              "    </tr>\n",
              "    <tr>\n",
              "      <th>380125</th>\n",
              "      <td>ffff91ea6a09a0c8ea42bc6ae33df4b5e06283dc</td>\n",
              "      <td>NaN</td>\n",
              "      <td>K &gt; 24 month</td>\n",
              "      <td>3850.0</td>\n",
              "      <td>18.0</td>\n",
              "      <td>3955.0</td>\n",
              "      <td>1318.0</td>\n",
              "      <td>23.0</td>\n",
              "      <td>2962.0</td>\n",
              "      <td>0.0</td>\n",
              "      <td>7.0</td>\n",
              "      <td>NaN</td>\n",
              "      <td>NaN</td>\n",
              "      <td>NaN</td>\n",
              "      <td>NO</td>\n",
              "      <td>29</td>\n",
              "      <td>Data: 100 F=40MB,24H</td>\n",
              "      <td>11.0</td>\n",
              "    </tr>\n",
              "    <tr>\n",
              "      <th>380126</th>\n",
              "      <td>ffffb393b346f5348034e6e22be93778d94d4beb</td>\n",
              "      <td>DIOURBEL</td>\n",
              "      <td>K &gt; 24 month</td>\n",
              "      <td>NaN</td>\n",
              "      <td>NaN</td>\n",
              "      <td>NaN</td>\n",
              "      <td>NaN</td>\n",
              "      <td>NaN</td>\n",
              "      <td>NaN</td>\n",
              "      <td>0.0</td>\n",
              "      <td>NaN</td>\n",
              "      <td>NaN</td>\n",
              "      <td>NaN</td>\n",
              "      <td>NaN</td>\n",
              "      <td>NO</td>\n",
              "      <td>20</td>\n",
              "      <td>NaN</td>\n",
              "      <td>NaN</td>\n",
              "    </tr>\n",
              "  </tbody>\n",
              "</table>\n",
              "</div>"
            ],
            "text/plain": [
              "                                         user_id    REGION        TENURE  \\\n",
              "380122  fffe7e03c7eede2ad0a728ee516c4d342dd16107     DAKAR  K > 24 month   \n",
              "380123  fffec230e6a1aa51ab37d0051ece42de611e71c6       NaN  K > 24 month   \n",
              "380124  ffff0dcc1ab9812bf205b6d76e9d084053cd96f5       NaN  K > 24 month   \n",
              "380125  ffff91ea6a09a0c8ea42bc6ae33df4b5e06283dc       NaN  K > 24 month   \n",
              "380126  ffffb393b346f5348034e6e22be93778d94d4beb  DIOURBEL  K > 24 month   \n",
              "\n",
              "        MONTANT  FREQUENCE_RECH  REVENUE  ARPU_SEGMENT  FREQUENCE  \\\n",
              "380122   4000.0             8.0   3999.0        1333.0        8.0   \n",
              "380123      NaN             NaN      NaN           NaN        NaN   \n",
              "380124   3950.0             7.0   3949.0        1316.0       10.0   \n",
              "380125   3850.0            18.0   3955.0        1318.0       23.0   \n",
              "380126      NaN             NaN      NaN           NaN        NaN   \n",
              "\n",
              "        DATA_VOLUME  ON_NET  ORANGE  TIGO  ZONE1  ZONE2 MRG  REGULARITY  \\\n",
              "380122       1587.0    26.0   250.0   1.0    NaN    NaN  NO          53   \n",
              "380123          NaN     NaN     NaN   NaN    NaN    NaN  NO           1   \n",
              "380124       1724.0    25.0    71.0   NaN    NaN    NaN  NO          15   \n",
              "380125       2962.0     0.0     7.0   NaN    NaN    NaN  NO          29   \n",
              "380126          NaN     0.0     NaN   NaN    NaN    NaN  NO          20   \n",
              "\n",
              "                           TOP_PACK  FREQ_TOP_PACK  \n",
              "380122  Mixt 250F=Unlimited_call24H            5.0  \n",
              "380123                          NaN            NaN  \n",
              "380124          IVR Echat_Daily_50F            6.0  \n",
              "380125         Data: 100 F=40MB,24H           11.0  \n",
              "380126                          NaN            NaN  "
            ]
          },
          "metadata": {
            "tags": []
          },
          "execution_count": 182
        }
      ]
    },
    {
      "cell_type": "code",
      "metadata": {
        "id": "TlIDq_zqQgR2",
        "colab_type": "code",
        "colab": {},
        "outputId": "efbd39c5-e1c9-492d-8131-87926049c269"
      },
      "source": [
        "test.shape"
      ],
      "execution_count": null,
      "outputs": [
        {
          "output_type": "execute_result",
          "data": {
            "text/plain": [
              "(380127, 18)"
            ]
          },
          "metadata": {
            "tags": []
          },
          "execution_count": 183
        }
      ]
    },
    {
      "cell_type": "code",
      "metadata": {
        "id": "TSR1hnFGQgR8",
        "colab_type": "code",
        "colab": {},
        "outputId": "5f63e03e-3342-4a1d-e4c7-c7ef2236a52b"
      },
      "source": [
        "test.info()"
      ],
      "execution_count": null,
      "outputs": [
        {
          "output_type": "stream",
          "text": [
            "<class 'pandas.core.frame.DataFrame'>\n",
            "RangeIndex: 380127 entries, 0 to 380126\n",
            "Data columns (total 18 columns):\n",
            "user_id           380127 non-null object\n",
            "REGION            230399 non-null object\n",
            "TENURE            380127 non-null object\n",
            "MONTANT           247072 non-null float64\n",
            "FREQUENCE_RECH    247072 non-null float64\n",
            "REVENUE           252754 non-null float64\n",
            "ARPU_SEGMENT      252754 non-null float64\n",
            "FREQUENCE         252754 non-null float64\n",
            "DATA_VOLUME       193087 non-null float64\n",
            "ON_NET            241613 non-null float64\n",
            "ORANGE            222897 non-null float64\n",
            "TIGO              153126 non-null float64\n",
            "ZONE1             29861 non-null float64\n",
            "ZONE2             24076 non-null float64\n",
            "MRG               380127 non-null object\n",
            "REGULARITY        380127 non-null int64\n",
            "TOP_PACK          221348 non-null object\n",
            "FREQ_TOP_PACK     221348 non-null float64\n",
            "dtypes: float64(12), int64(1), object(5)\n",
            "memory usage: 52.2+ MB\n"
          ],
          "name": "stdout"
        }
      ]
    },
    {
      "cell_type": "code",
      "metadata": {
        "id": "Zxk6Ps0KQgSC",
        "colab_type": "code",
        "colab": {},
        "outputId": "2f7d91ef-e7a1-4fbb-de6d-e71358a02933"
      },
      "source": [
        "submission.head()"
      ],
      "execution_count": null,
      "outputs": [
        {
          "output_type": "execute_result",
          "data": {
            "text/html": [
              "<div>\n",
              "<style scoped>\n",
              "    .dataframe tbody tr th:only-of-type {\n",
              "        vertical-align: middle;\n",
              "    }\n",
              "\n",
              "    .dataframe tbody tr th {\n",
              "        vertical-align: top;\n",
              "    }\n",
              "\n",
              "    .dataframe thead th {\n",
              "        text-align: right;\n",
              "    }\n",
              "</style>\n",
              "<table border=\"1\" class=\"dataframe\">\n",
              "  <thead>\n",
              "    <tr style=\"text-align: right;\">\n",
              "      <th></th>\n",
              "      <th>user_id</th>\n",
              "      <th>CHURN</th>\n",
              "    </tr>\n",
              "  </thead>\n",
              "  <tbody>\n",
              "    <tr>\n",
              "      <th>0</th>\n",
              "      <td>00001dbe00e56fc4b1c1b65dda63de2a5ece55f9</td>\n",
              "      <td>0</td>\n",
              "    </tr>\n",
              "    <tr>\n",
              "      <th>1</th>\n",
              "      <td>000055d41c8a62052dd426592e8a4a3342bf565d</td>\n",
              "      <td>0</td>\n",
              "    </tr>\n",
              "    <tr>\n",
              "      <th>2</th>\n",
              "      <td>000081dd3245e6869a4a9c574c7050e7bb84c2c8</td>\n",
              "      <td>0</td>\n",
              "    </tr>\n",
              "    <tr>\n",
              "      <th>3</th>\n",
              "      <td>0000b76d2145d9445d9ff6b65c9ebc4196c89337</td>\n",
              "      <td>0</td>\n",
              "    </tr>\n",
              "    <tr>\n",
              "      <th>4</th>\n",
              "      <td>0000bae5480628cf8fe51ad84bcb39772fc79224</td>\n",
              "      <td>0</td>\n",
              "    </tr>\n",
              "  </tbody>\n",
              "</table>\n",
              "</div>"
            ],
            "text/plain": [
              "                                    user_id  CHURN\n",
              "0  00001dbe00e56fc4b1c1b65dda63de2a5ece55f9      0\n",
              "1  000055d41c8a62052dd426592e8a4a3342bf565d      0\n",
              "2  000081dd3245e6869a4a9c574c7050e7bb84c2c8      0\n",
              "3  0000b76d2145d9445d9ff6b65c9ebc4196c89337      0\n",
              "4  0000bae5480628cf8fe51ad84bcb39772fc79224      0"
            ]
          },
          "metadata": {
            "tags": []
          },
          "execution_count": 185
        }
      ]
    },
    {
      "cell_type": "code",
      "metadata": {
        "id": "dSrnRh_hQgSI",
        "colab_type": "code",
        "colab": {},
        "outputId": "964f5625-6c96-4021-cc55-c523ee49a17a"
      },
      "source": [
        "submission.shape"
      ],
      "execution_count": null,
      "outputs": [
        {
          "output_type": "execute_result",
          "data": {
            "text/plain": [
              "(380127, 2)"
            ]
          },
          "metadata": {
            "tags": []
          },
          "execution_count": 186
        }
      ]
    },
    {
      "cell_type": "code",
      "metadata": {
        "id": "EEoZmTRqQgSO",
        "colab_type": "code",
        "colab": {}
      },
      "source": [
        "#Check how many levels are involved in each of the categorical features (object)"
      ],
      "execution_count": null,
      "outputs": []
    },
    {
      "cell_type": "code",
      "metadata": {
        "id": "JTm--SKKQgSU",
        "colab_type": "code",
        "colab": {},
        "outputId": "4d1466e2-368a-499f-c272-66139ccdaca3"
      },
      "source": [
        "print(train['REGION'].value_counts())\n",
        "plt.figure(figsize=(10,5))\n",
        "train['REGION'].value_counts(normalize=True).plot(kind='bar')\n",
        "plt.ylabel('counts')\n",
        "plt.xlabel('REGION')"
      ],
      "execution_count": null,
      "outputs": [
        {
          "output_type": "stream",
          "text": [
            "DAKAR          513271\n",
            "THIES          180052\n",
            "SAINT-LOUIS    119886\n",
            "LOUGA           99053\n",
            "KAOLACK         96986\n",
            "DIOURBEL        66911\n",
            "TAMBACOUNDA     55074\n",
            "KAFFRINE        43963\n",
            "KOLDA           38743\n",
            "FATICK          35643\n",
            "MATAM           29083\n",
            "ZIGUINCHOR      21945\n",
            "SEDHIOU          3119\n",
            "KEDOUGOU         1020\n",
            "Name: REGION, dtype: int64\n"
          ],
          "name": "stdout"
        },
        {
          "output_type": "execute_result",
          "data": {
            "text/plain": [
              "Text(0.5, 0, 'REGION')"
            ]
          },
          "metadata": {
            "tags": []
          },
          "execution_count": 188
        },
        {
          "output_type": "display_data",
          "data": {
            "image/png": "[encoded data removed]",
            "text/plain": [
              "<Figure size 720x360 with 1 Axes>"
            ]
          },
          "metadata": {
            "tags": [],
            "needs_background": "light"
          }
        }
      ]
    },
    {
      "cell_type": "code",
      "metadata": {
        "id": "YPoLzEXFQgSZ",
        "colab_type": "code",
        "colab": {},
        "outputId": "a24c4fd7-d7d2-45fb-b4b7-702dcf20b917"
      },
      "source": [
        "print(train['TENURE'].value_counts())\n",
        "plt.figure(figsize=(10,5))\n",
        "train['TENURE'].value_counts(normalize=True).plot(kind='bar')\n",
        "plt.ylabel('counts')\n",
        "plt.xlabel('TENURE')"
      ],
      "execution_count": null,
      "outputs": [
        {
          "output_type": "stream",
          "text": [
            "K > 24 month     2043201\n",
            "I 18-21 month      45278\n",
            "H 15-18 month      26006\n",
            "G 12-15 month      14901\n",
            "J 21-24 month      12725\n",
            "F 9-12 month        9328\n",
            "E 6-9 month         1839\n",
            "D 3-6 month          770\n",
            "Name: TENURE, dtype: int64\n"
          ],
          "name": "stdout"
        },
        {
          "output_type": "execute_result",
          "data": {
            "text/plain": [
              "Text(0.5, 0, 'TENURE')"
            ]
          },
          "metadata": {
            "tags": []
          },
          "execution_count": 189
        },
        {
          "output_type": "display_data",
          "data": {
            "image/png": "[encoded data removed]",
            "text/plain": [
              "<Figure size 720x360 with 1 Axes>"
            ]
          },
          "metadata": {
            "tags": [],
            "needs_background": "light"
          }
        }
      ]
    },
    {
      "cell_type": "code",
      "metadata": {
        "id": "03FPu-5JQgSf",
        "colab_type": "code",
        "colab": {},
        "outputId": "1115363a-94e4-4d77-dc98-badb80224b63"
      },
      "source": [
        "print(train['MRG'].value_counts())\n",
        "plt.figure(figsize=(10,5))\n",
        "train['MRG'].value_counts(normalize=True).plot(kind='bar')\n",
        "plt.ylabel('counts')\n",
        "plt.xlabel('MRG')"
      ],
      "execution_count": null,
      "outputs": [
        {
          "output_type": "stream",
          "text": [
            "NO    2154048\n",
            "Name: MRG, dtype: int64\n"
          ],
          "name": "stdout"
        },
        {
          "output_type": "execute_result",
          "data": {
            "text/plain": [
              "Text(0.5, 0, 'MRG')"
            ]
          },
          "metadata": {
            "tags": []
          },
          "execution_count": 190
        },
        {
          "output_type": "display_data",
          "data": {
            "image/png": "[encoded data removed]",
            "text/plain": [
              "<Figure size 720x360 with 1 Axes>"
            ]
          },
          "metadata": {
            "tags": [],
            "needs_background": "light"
          }
        }
      ]
    },
    {
      "cell_type": "code",
      "metadata": {
        "id": "iZeoDJnuQgSk",
        "colab_type": "code",
        "colab": {},
        "outputId": "3e7713e6-5afb-4d95-cb92-495a708c9127"
      },
      "source": [
        "#probaly not the best way to visualize this\n",
        "print(train['TOP_PACK'].value_counts())\n",
        "plt.figure(figsize=(10,5))\n",
        "train['TOP_PACK'].value_counts(normalize=True).plot(kind='bar')\n",
        "plt.ylabel('counts')\n",
        "plt.xlabel('TOP_PACK')"
      ],
      "execution_count": null,
      "outputs": [
        {
          "output_type": "stream",
          "text": [
            "All-net 500F=2000F;5d             317802\n",
            "On net 200F=Unlimited _call24H    152295\n",
            "Data:490F=1GB,7d                  115180\n",
            "Data: 100 F=40MB,24H               84649\n",
            "Mixt 250F=Unlimited_call24H        67512\n",
            "                                   ...  \n",
            "Data:New-GPRS_PKG_1500F                1\n",
            "YMGX on-net 100=700F, 24H              1\n",
            "GPRS_5Go_7D_PORTAL                     1\n",
            "FIFA_TS_monthly                        1\n",
            "Data_Mifi_20Go                         1\n",
            "Name: TOP_PACK, Length: 140, dtype: int64\n"
          ],
          "name": "stdout"
        },
        {
          "output_type": "execute_result",
          "data": {
            "text/plain": [
              "Text(0.5, 0, 'TOP_PACK')"
            ]
          },
          "metadata": {
            "tags": []
          },
          "execution_count": 191
        },
        {
          "output_type": "display_data",
          "data": {
            "image/png": "[encoded data removed]",
            "text/plain": [
              "<Figure size 720x360 with 1 Axes>"
            ]
          },
          "metadata": {
            "tags": [],
            "needs_background": "light"
          }
        }
      ]
    },
    {
      "cell_type": "code",
      "metadata": {
        "id": "SmULWkdfQgSp",
        "colab_type": "code",
        "colab": {},
        "outputId": "5103747c-612c-4e57-c332-26873c3fed8d"
      },
      "source": [
        "#Check if the predictor class is balanced \n",
        "print(train['CHURN'].value_counts())\n",
        "plt.figure(figsize=(10,5))\n",
        "train['CHURN'].value_counts(normalize=True).plot(kind='bar')\n",
        "plt.ylabel('counts')\n",
        "plt.xlabel('Churn')"
      ],
      "execution_count": null,
      "outputs": [
        {
          "output_type": "stream",
          "text": [
            "0    1750062\n",
            "1     403986\n",
            "Name: CHURN, dtype: int64\n"
          ],
          "name": "stdout"
        },
        {
          "output_type": "execute_result",
          "data": {
            "text/plain": [
              "Text(0.5, 0, 'Churn')"
            ]
          },
          "metadata": {
            "tags": []
          },
          "execution_count": 192
        },
        {
          "output_type": "display_data",
          "data": {
            "image/png": "[encoded data removed]",
            "text/plain": [
              "<Figure size 720x360 with 1 Axes>"
            ]
          },
          "metadata": {
            "tags": [],
            "needs_background": "light"
          }
        }
      ]
    },
    {
      "cell_type": "code",
      "metadata": {
        "id": "fmox_0KXQgSs",
        "colab_type": "code",
        "colab": {},
        "outputId": "e2cb3f64-4044-4e5d-c250-e57e1c4ccecc"
      },
      "source": [
        "#Check summary of numerical fields\n",
        "train.select_dtypes(include=['int64', 'float64']).describe().T"
      ],
      "execution_count": null,
      "outputs": [
        {
          "output_type": "execute_result",
          "data": {
            "text/html": [
              "<div>\n",
              "<style scoped>\n",
              "    .dataframe tbody tr th:only-of-type {\n",
              "        vertical-align: middle;\n",
              "    }\n",
              "\n",
              "    .dataframe tbody tr th {\n",
              "        vertical-align: top;\n",
              "    }\n",
              "\n",
              "    .dataframe thead th {\n",
              "        text-align: right;\n",
              "    }\n",
              "</style>\n",
              "<table border=\"1\" class=\"dataframe\">\n",
              "  <thead>\n",
              "    <tr style=\"text-align: right;\">\n",
              "      <th></th>\n",
              "      <th>count</th>\n",
              "      <th>mean</th>\n",
              "      <th>std</th>\n",
              "      <th>min</th>\n",
              "      <th>25%</th>\n",
              "      <th>50%</th>\n",
              "      <th>75%</th>\n",
              "      <th>max</th>\n",
              "    </tr>\n",
              "  </thead>\n",
              "  <tbody>\n",
              "    <tr>\n",
              "      <th>MONTANT</th>\n",
              "      <td>1397309.0</td>\n",
              "      <td>5532.116998</td>\n",
              "      <td>7111.339421</td>\n",
              "      <td>10.0</td>\n",
              "      <td>1000.0</td>\n",
              "      <td>3000.0</td>\n",
              "      <td>7350.0</td>\n",
              "      <td>470000.0</td>\n",
              "    </tr>\n",
              "    <tr>\n",
              "      <th>FREQUENCE_RECH</th>\n",
              "      <td>1397309.0</td>\n",
              "      <td>11.529120</td>\n",
              "      <td>13.274070</td>\n",
              "      <td>1.0</td>\n",
              "      <td>2.0</td>\n",
              "      <td>7.0</td>\n",
              "      <td>16.0</td>\n",
              "      <td>133.0</td>\n",
              "    </tr>\n",
              "    <tr>\n",
              "      <th>REVENUE</th>\n",
              "      <td>1428000.0</td>\n",
              "      <td>5510.810334</td>\n",
              "      <td>7187.112880</td>\n",
              "      <td>1.0</td>\n",
              "      <td>1000.0</td>\n",
              "      <td>3000.0</td>\n",
              "      <td>7368.0</td>\n",
              "      <td>532177.0</td>\n",
              "    </tr>\n",
              "    <tr>\n",
              "      <th>ARPU_SEGMENT</th>\n",
              "      <td>1428000.0</td>\n",
              "      <td>1836.942894</td>\n",
              "      <td>2395.699954</td>\n",
              "      <td>0.0</td>\n",
              "      <td>333.0</td>\n",
              "      <td>1000.0</td>\n",
              "      <td>2456.0</td>\n",
              "      <td>177392.0</td>\n",
              "    </tr>\n",
              "    <tr>\n",
              "      <th>FREQUENCE</th>\n",
              "      <td>1428000.0</td>\n",
              "      <td>13.978141</td>\n",
              "      <td>14.694035</td>\n",
              "      <td>1.0</td>\n",
              "      <td>3.0</td>\n",
              "      <td>9.0</td>\n",
              "      <td>20.0</td>\n",
              "      <td>91.0</td>\n",
              "    </tr>\n",
              "    <tr>\n",
              "      <th>DATA_VOLUME</th>\n",
              "      <td>1093615.0</td>\n",
              "      <td>3366.450167</td>\n",
              "      <td>13304.463667</td>\n",
              "      <td>0.0</td>\n",
              "      <td>0.0</td>\n",
              "      <td>257.0</td>\n",
              "      <td>2895.0</td>\n",
              "      <td>1823866.0</td>\n",
              "    </tr>\n",
              "    <tr>\n",
              "      <th>ON_NET</th>\n",
              "      <td>1367373.0</td>\n",
              "      <td>277.689140</td>\n",
              "      <td>872.688909</td>\n",
              "      <td>0.0</td>\n",
              "      <td>5.0</td>\n",
              "      <td>27.0</td>\n",
              "      <td>156.0</td>\n",
              "      <td>50809.0</td>\n",
              "    </tr>\n",
              "    <tr>\n",
              "      <th>ORANGE</th>\n",
              "      <td>1258800.0</td>\n",
              "      <td>95.418711</td>\n",
              "      <td>204.987266</td>\n",
              "      <td>0.0</td>\n",
              "      <td>7.0</td>\n",
              "      <td>29.0</td>\n",
              "      <td>99.0</td>\n",
              "      <td>21323.0</td>\n",
              "    </tr>\n",
              "    <tr>\n",
              "      <th>TIGO</th>\n",
              "      <td>864032.0</td>\n",
              "      <td>23.109253</td>\n",
              "      <td>63.578086</td>\n",
              "      <td>0.0</td>\n",
              "      <td>2.0</td>\n",
              "      <td>6.0</td>\n",
              "      <td>20.0</td>\n",
              "      <td>4174.0</td>\n",
              "    </tr>\n",
              "    <tr>\n",
              "      <th>ZONE1</th>\n",
              "      <td>169721.0</td>\n",
              "      <td>8.170132</td>\n",
              "      <td>41.169511</td>\n",
              "      <td>0.0</td>\n",
              "      <td>0.0</td>\n",
              "      <td>1.0</td>\n",
              "      <td>3.0</td>\n",
              "      <td>4792.0</td>\n",
              "    </tr>\n",
              "    <tr>\n",
              "      <th>ZONE2</th>\n",
              "      <td>136824.0</td>\n",
              "      <td>7.553309</td>\n",
              "      <td>33.487234</td>\n",
              "      <td>0.0</td>\n",
              "      <td>0.0</td>\n",
              "      <td>2.0</td>\n",
              "      <td>5.0</td>\n",
              "      <td>3697.0</td>\n",
              "    </tr>\n",
              "    <tr>\n",
              "      <th>REGULARITY</th>\n",
              "      <td>2154048.0</td>\n",
              "      <td>28.042505</td>\n",
              "      <td>22.286857</td>\n",
              "      <td>1.0</td>\n",
              "      <td>6.0</td>\n",
              "      <td>24.0</td>\n",
              "      <td>51.0</td>\n",
              "      <td>62.0</td>\n",
              "    </tr>\n",
              "    <tr>\n",
              "      <th>FREQ_TOP_PACK</th>\n",
              "      <td>1251454.0</td>\n",
              "      <td>9.272461</td>\n",
              "      <td>12.280443</td>\n",
              "      <td>1.0</td>\n",
              "      <td>2.0</td>\n",
              "      <td>5.0</td>\n",
              "      <td>12.0</td>\n",
              "      <td>713.0</td>\n",
              "    </tr>\n",
              "    <tr>\n",
              "      <th>CHURN</th>\n",
              "      <td>2154048.0</td>\n",
              "      <td>0.187547</td>\n",
              "      <td>0.390350</td>\n",
              "      <td>0.0</td>\n",
              "      <td>0.0</td>\n",
              "      <td>0.0</td>\n",
              "      <td>0.0</td>\n",
              "      <td>1.0</td>\n",
              "    </tr>\n",
              "  </tbody>\n",
              "</table>\n",
              "</div>"
            ],
            "text/plain": [
              "                    count         mean           std   min     25%     50%  \\\n",
              "MONTANT         1397309.0  5532.116998   7111.339421  10.0  1000.0  3000.0   \n",
              "FREQUENCE_RECH  1397309.0    11.529120     13.274070   1.0     2.0     7.0   \n",
              "REVENUE         1428000.0  5510.810334   7187.112880   1.0  1000.0  3000.0   \n",
              "ARPU_SEGMENT    1428000.0  1836.942894   2395.699954   0.0   333.0  1000.0   \n",
              "FREQUENCE       1428000.0    13.978141     14.694035   1.0     3.0     9.0   \n",
              "DATA_VOLUME     1093615.0  3366.450167  13304.463667   0.0     0.0   257.0   \n",
              "ON_NET          1367373.0   277.689140    872.688909   0.0     5.0    27.0   \n",
              "ORANGE          1258800.0    95.418711    204.987266   0.0     7.0    29.0   \n",
              "TIGO             864032.0    23.109253     63.578086   0.0     2.0     6.0   \n",
              "ZONE1            169721.0     8.170132     41.169511   0.0     0.0     1.0   \n",
              "ZONE2            136824.0     7.553309     33.487234   0.0     0.0     2.0   \n",
              "REGULARITY      2154048.0    28.042505     22.286857   1.0     6.0    24.0   \n",
              "FREQ_TOP_PACK   1251454.0     9.272461     12.280443   1.0     2.0     5.0   \n",
              "CHURN           2154048.0     0.187547      0.390350   0.0     0.0     0.0   \n",
              "\n",
              "                   75%        max  \n",
              "MONTANT         7350.0   470000.0  \n",
              "FREQUENCE_RECH    16.0      133.0  \n",
              "REVENUE         7368.0   532177.0  \n",
              "ARPU_SEGMENT    2456.0   177392.0  \n",
              "FREQUENCE         20.0       91.0  \n",
              "DATA_VOLUME     2895.0  1823866.0  \n",
              "ON_NET           156.0    50809.0  \n",
              "ORANGE            99.0    21323.0  \n",
              "TIGO              20.0     4174.0  \n",
              "ZONE1              3.0     4792.0  \n",
              "ZONE2              5.0     3697.0  \n",
              "REGULARITY        51.0       62.0  \n",
              "FREQ_TOP_PACK     12.0      713.0  \n",
              "CHURN              0.0        1.0  "
            ]
          },
          "metadata": {
            "tags": []
          },
          "execution_count": 193
        }
      ]
    },
    {
      "cell_type": "code",
      "metadata": {
        "id": "c98g_5rdQgSx",
        "colab_type": "code",
        "colab": {},
        "outputId": "8d45a5cb-8115-4605-bbd4-4dc8083d9eb1"
      },
      "source": [
        "#Check for missing values in training data\n",
        "train.isnull().sum()"
      ],
      "execution_count": null,
      "outputs": [
        {
          "output_type": "execute_result",
          "data": {
            "text/plain": [
              "user_id                 0\n",
              "REGION             849299\n",
              "TENURE                  0\n",
              "MONTANT            756739\n",
              "FREQUENCE_RECH     756739\n",
              "REVENUE            726048\n",
              "ARPU_SEGMENT       726048\n",
              "FREQUENCE          726048\n",
              "DATA_VOLUME       1060433\n",
              "ON_NET             786675\n",
              "ORANGE             895248\n",
              "TIGO              1290016\n",
              "ZONE1             1984327\n",
              "ZONE2             2017224\n",
              "MRG                     0\n",
              "REGULARITY              0\n",
              "TOP_PACK           902594\n",
              "FREQ_TOP_PACK      902594\n",
              "CHURN                   0\n",
              "dtype: int64"
            ]
          },
          "metadata": {
            "tags": []
          },
          "execution_count": 194
        }
      ]
    },
    {
      "cell_type": "code",
      "metadata": {
        "id": "lrYO2AqXQgS2",
        "colab_type": "code",
        "colab": {},
        "outputId": "f9cf1d0f-cbf8-4aa0-e927-7ea41ade0a11"
      },
      "source": [
        "#Check for missing values in test data\n",
        "test.isnull().sum()"
      ],
      "execution_count": null,
      "outputs": [
        {
          "output_type": "execute_result",
          "data": {
            "text/plain": [
              "user_id                0\n",
              "REGION            149728\n",
              "TENURE                 0\n",
              "MONTANT           133055\n",
              "FREQUENCE_RECH    133055\n",
              "REVENUE           127373\n",
              "ARPU_SEGMENT      127373\n",
              "FREQUENCE         127373\n",
              "DATA_VOLUME       187040\n",
              "ON_NET            138514\n",
              "ORANGE            157230\n",
              "TIGO              227001\n",
              "ZONE1             350266\n",
              "ZONE2             356051\n",
              "MRG                    0\n",
              "REGULARITY             0\n",
              "TOP_PACK          158779\n",
              "FREQ_TOP_PACK     158779\n",
              "dtype: int64"
            ]
          },
          "metadata": {
            "tags": []
          },
          "execution_count": 195
        }
      ]
    },
    {
      "cell_type": "code",
      "metadata": {
        "id": "3OUQ_5P0QgS8",
        "colab_type": "code",
        "colab": {}
      },
      "source": [
        "#We will drop REGION, TOP_PACK, and MRG\n",
        "#We will also replace the missing values for the numerical columns with their means (averages)"
      ],
      "execution_count": null,
      "outputs": []
    },
    {
      "cell_type": "code",
      "metadata": {
        "id": "wylcNXgIQgTC",
        "colab_type": "code",
        "colab": {}
      },
      "source": [
        "train.drop(columns=['REGION', 'MRG', 'TOP_PACK'], inplace=True) #drop these columns"
      ],
      "execution_count": null,
      "outputs": []
    },
    {
      "cell_type": "code",
      "metadata": {
        "id": "TKjrXL3jQgTG",
        "colab_type": "code",
        "colab": {},
        "outputId": "ff1bfedc-44d3-4ee9-c9cd-dc8c57f30ecf"
      },
      "source": [
        "train.head()"
      ],
      "execution_count": null,
      "outputs": [
        {
          "output_type": "execute_result",
          "data": {
            "text/html": [
              "<div>\n",
              "<style scoped>\n",
              "    .dataframe tbody tr th:only-of-type {\n",
              "        vertical-align: middle;\n",
              "    }\n",
              "\n",
              "    .dataframe tbody tr th {\n",
              "        vertical-align: top;\n",
              "    }\n",
              "\n",
              "    .dataframe thead th {\n",
              "        text-align: right;\n",
              "    }\n",
              "</style>\n",
              "<table border=\"1\" class=\"dataframe\">\n",
              "  <thead>\n",
              "    <tr style=\"text-align: right;\">\n",
              "      <th></th>\n",
              "      <th>user_id</th>\n",
              "      <th>TENURE</th>\n",
              "      <th>MONTANT</th>\n",
              "      <th>FREQUENCE_RECH</th>\n",
              "      <th>REVENUE</th>\n",
              "      <th>ARPU_SEGMENT</th>\n",
              "      <th>FREQUENCE</th>\n",
              "      <th>DATA_VOLUME</th>\n",
              "      <th>ON_NET</th>\n",
              "      <th>ORANGE</th>\n",
              "      <th>TIGO</th>\n",
              "      <th>ZONE1</th>\n",
              "      <th>ZONE2</th>\n",
              "      <th>REGULARITY</th>\n",
              "      <th>FREQ_TOP_PACK</th>\n",
              "      <th>CHURN</th>\n",
              "    </tr>\n",
              "  </thead>\n",
              "  <tbody>\n",
              "    <tr>\n",
              "      <th>0</th>\n",
              "      <td>00000bfd7d50f01092811bc0c8d7b0d6fe7c3596</td>\n",
              "      <td>K &gt; 24 month</td>\n",
              "      <td>4250.0</td>\n",
              "      <td>15.0</td>\n",
              "      <td>4251.0</td>\n",
              "      <td>1417.0</td>\n",
              "      <td>17.0</td>\n",
              "      <td>4.0</td>\n",
              "      <td>388.0</td>\n",
              "      <td>46.0</td>\n",
              "      <td>1.0</td>\n",
              "      <td>1.0</td>\n",
              "      <td>2.0</td>\n",
              "      <td>54</td>\n",
              "      <td>8.0</td>\n",
              "      <td>0</td>\n",
              "    </tr>\n",
              "    <tr>\n",
              "      <th>1</th>\n",
              "      <td>00000cb4a5d760de88fecb38e2f71b7bec52e834</td>\n",
              "      <td>I 18-21 month</td>\n",
              "      <td>NaN</td>\n",
              "      <td>NaN</td>\n",
              "      <td>NaN</td>\n",
              "      <td>NaN</td>\n",
              "      <td>NaN</td>\n",
              "      <td>NaN</td>\n",
              "      <td>NaN</td>\n",
              "      <td>NaN</td>\n",
              "      <td>NaN</td>\n",
              "      <td>NaN</td>\n",
              "      <td>NaN</td>\n",
              "      <td>4</td>\n",
              "      <td>NaN</td>\n",
              "      <td>1</td>\n",
              "    </tr>\n",
              "    <tr>\n",
              "      <th>2</th>\n",
              "      <td>00001654a9d9f96303d9969d0a4a851714a4bb57</td>\n",
              "      <td>K &gt; 24 month</td>\n",
              "      <td>3600.0</td>\n",
              "      <td>2.0</td>\n",
              "      <td>1020.0</td>\n",
              "      <td>340.0</td>\n",
              "      <td>2.0</td>\n",
              "      <td>NaN</td>\n",
              "      <td>90.0</td>\n",
              "      <td>46.0</td>\n",
              "      <td>7.0</td>\n",
              "      <td>NaN</td>\n",
              "      <td>NaN</td>\n",
              "      <td>17</td>\n",
              "      <td>1.0</td>\n",
              "      <td>0</td>\n",
              "    </tr>\n",
              "    <tr>\n",
              "      <th>3</th>\n",
              "      <td>00001dd6fa45f7ba044bd5d84937be464ce78ac2</td>\n",
              "      <td>K &gt; 24 month</td>\n",
              "      <td>13500.0</td>\n",
              "      <td>15.0</td>\n",
              "      <td>13502.0</td>\n",
              "      <td>4501.0</td>\n",
              "      <td>18.0</td>\n",
              "      <td>43804.0</td>\n",
              "      <td>41.0</td>\n",
              "      <td>102.0</td>\n",
              "      <td>2.0</td>\n",
              "      <td>NaN</td>\n",
              "      <td>NaN</td>\n",
              "      <td>62</td>\n",
              "      <td>11.0</td>\n",
              "      <td>0</td>\n",
              "    </tr>\n",
              "    <tr>\n",
              "      <th>4</th>\n",
              "      <td>000028d9e13a595abe061f9b58f3d76ab907850f</td>\n",
              "      <td>K &gt; 24 month</td>\n",
              "      <td>1000.0</td>\n",
              "      <td>1.0</td>\n",
              "      <td>985.0</td>\n",
              "      <td>328.0</td>\n",
              "      <td>1.0</td>\n",
              "      <td>NaN</td>\n",
              "      <td>39.0</td>\n",
              "      <td>24.0</td>\n",
              "      <td>NaN</td>\n",
              "      <td>NaN</td>\n",
              "      <td>NaN</td>\n",
              "      <td>11</td>\n",
              "      <td>2.0</td>\n",
              "      <td>0</td>\n",
              "    </tr>\n",
              "  </tbody>\n",
              "</table>\n",
              "</div>"
            ],
            "text/plain": [
              "                                    user_id         TENURE  MONTANT  \\\n",
              "0  00000bfd7d50f01092811bc0c8d7b0d6fe7c3596   K > 24 month   4250.0   \n",
              "1  00000cb4a5d760de88fecb38e2f71b7bec52e834  I 18-21 month      NaN   \n",
              "2  00001654a9d9f96303d9969d0a4a851714a4bb57   K > 24 month   3600.0   \n",
              "3  00001dd6fa45f7ba044bd5d84937be464ce78ac2   K > 24 month  13500.0   \n",
              "4  000028d9e13a595abe061f9b58f3d76ab907850f   K > 24 month   1000.0   \n",
              "\n",
              "   FREQUENCE_RECH  REVENUE  ARPU_SEGMENT  FREQUENCE  DATA_VOLUME  ON_NET  \\\n",
              "0            15.0   4251.0        1417.0       17.0          4.0   388.0   \n",
              "1             NaN      NaN           NaN        NaN          NaN     NaN   \n",
              "2             2.0   1020.0         340.0        2.0          NaN    90.0   \n",
              "3            15.0  13502.0        4501.0       18.0      43804.0    41.0   \n",
              "4             1.0    985.0         328.0        1.0          NaN    39.0   \n",
              "\n",
              "   ORANGE  TIGO  ZONE1  ZONE2  REGULARITY  FREQ_TOP_PACK  CHURN  \n",
              "0    46.0   1.0    1.0    2.0          54            8.0      0  \n",
              "1     NaN   NaN    NaN    NaN           4            NaN      1  \n",
              "2    46.0   7.0    NaN    NaN          17            1.0      0  \n",
              "3   102.0   2.0    NaN    NaN          62           11.0      0  \n",
              "4    24.0   NaN    NaN    NaN          11            2.0      0  "
            ]
          },
          "metadata": {
            "tags": []
          },
          "execution_count": 198
        }
      ]
    },
    {
      "cell_type": "code",
      "metadata": {
        "id": "GvKp72pvQgTL",
        "colab_type": "code",
        "colab": {}
      },
      "source": [
        "test.drop(columns=['REGION', 'MRG', 'TOP_PACK'], inplace=True)"
      ],
      "execution_count": null,
      "outputs": []
    },
    {
      "cell_type": "code",
      "metadata": {
        "id": "Fvk5e_yTQgTQ",
        "colab_type": "code",
        "colab": {},
        "outputId": "051d218b-9623-4b34-90b2-1a3a83af22f5"
      },
      "source": [
        "test.head()"
      ],
      "execution_count": null,
      "outputs": [
        {
          "output_type": "execute_result",
          "data": {
            "text/html": [
              "<div>\n",
              "<style scoped>\n",
              "    .dataframe tbody tr th:only-of-type {\n",
              "        vertical-align: middle;\n",
              "    }\n",
              "\n",
              "    .dataframe tbody tr th {\n",
              "        vertical-align: top;\n",
              "    }\n",
              "\n",
              "    .dataframe thead th {\n",
              "        text-align: right;\n",
              "    }\n",
              "</style>\n",
              "<table border=\"1\" class=\"dataframe\">\n",
              "  <thead>\n",
              "    <tr style=\"text-align: right;\">\n",
              "      <th></th>\n",
              "      <th>user_id</th>\n",
              "      <th>TENURE</th>\n",
              "      <th>MONTANT</th>\n",
              "      <th>FREQUENCE_RECH</th>\n",
              "      <th>REVENUE</th>\n",
              "      <th>ARPU_SEGMENT</th>\n",
              "      <th>FREQUENCE</th>\n",
              "      <th>DATA_VOLUME</th>\n",
              "      <th>ON_NET</th>\n",
              "      <th>ORANGE</th>\n",
              "      <th>TIGO</th>\n",
              "      <th>ZONE1</th>\n",
              "      <th>ZONE2</th>\n",
              "      <th>REGULARITY</th>\n",
              "      <th>FREQ_TOP_PACK</th>\n",
              "    </tr>\n",
              "  </thead>\n",
              "  <tbody>\n",
              "    <tr>\n",
              "      <th>0</th>\n",
              "      <td>00001dbe00e56fc4b1c1b65dda63de2a5ece55f9</td>\n",
              "      <td>K &gt; 24 month</td>\n",
              "      <td>5000.0</td>\n",
              "      <td>5.0</td>\n",
              "      <td>5000.0</td>\n",
              "      <td>1667.0</td>\n",
              "      <td>5.0</td>\n",
              "      <td>NaN</td>\n",
              "      <td>378.0</td>\n",
              "      <td>11.0</td>\n",
              "      <td>5.0</td>\n",
              "      <td>NaN</td>\n",
              "      <td>NaN</td>\n",
              "      <td>42</td>\n",
              "      <td>5.0</td>\n",
              "    </tr>\n",
              "    <tr>\n",
              "      <th>1</th>\n",
              "      <td>000055d41c8a62052dd426592e8a4a3342bf565d</td>\n",
              "      <td>I 18-21 month</td>\n",
              "      <td>300.0</td>\n",
              "      <td>2.0</td>\n",
              "      <td>326.0</td>\n",
              "      <td>109.0</td>\n",
              "      <td>3.0</td>\n",
              "      <td>397.0</td>\n",
              "      <td>NaN</td>\n",
              "      <td>0.0</td>\n",
              "      <td>NaN</td>\n",
              "      <td>NaN</td>\n",
              "      <td>NaN</td>\n",
              "      <td>41</td>\n",
              "      <td>1.0</td>\n",
              "    </tr>\n",
              "    <tr>\n",
              "      <th>2</th>\n",
              "      <td>000081dd3245e6869a4a9c574c7050e7bb84c2c8</td>\n",
              "      <td>K &gt; 24 month</td>\n",
              "      <td>3300.0</td>\n",
              "      <td>25.0</td>\n",
              "      <td>3400.0</td>\n",
              "      <td>1133.0</td>\n",
              "      <td>26.0</td>\n",
              "      <td>7150.0</td>\n",
              "      <td>0.0</td>\n",
              "      <td>2.0</td>\n",
              "      <td>5.0</td>\n",
              "      <td>NaN</td>\n",
              "      <td>NaN</td>\n",
              "      <td>57</td>\n",
              "      <td>22.0</td>\n",
              "    </tr>\n",
              "    <tr>\n",
              "      <th>3</th>\n",
              "      <td>0000b76d2145d9445d9ff6b65c9ebc4196c89337</td>\n",
              "      <td>K &gt; 24 month</td>\n",
              "      <td>NaN</td>\n",
              "      <td>NaN</td>\n",
              "      <td>NaN</td>\n",
              "      <td>NaN</td>\n",
              "      <td>NaN</td>\n",
              "      <td>NaN</td>\n",
              "      <td>NaN</td>\n",
              "      <td>NaN</td>\n",
              "      <td>NaN</td>\n",
              "      <td>NaN</td>\n",
              "      <td>NaN</td>\n",
              "      <td>9</td>\n",
              "      <td>NaN</td>\n",
              "    </tr>\n",
              "    <tr>\n",
              "      <th>4</th>\n",
              "      <td>0000bae5480628cf8fe51ad84bcb39772fc79224</td>\n",
              "      <td>K &gt; 24 month</td>\n",
              "      <td>NaN</td>\n",
              "      <td>NaN</td>\n",
              "      <td>NaN</td>\n",
              "      <td>NaN</td>\n",
              "      <td>NaN</td>\n",
              "      <td>NaN</td>\n",
              "      <td>NaN</td>\n",
              "      <td>NaN</td>\n",
              "      <td>NaN</td>\n",
              "      <td>NaN</td>\n",
              "      <td>NaN</td>\n",
              "      <td>10</td>\n",
              "      <td>NaN</td>\n",
              "    </tr>\n",
              "  </tbody>\n",
              "</table>\n",
              "</div>"
            ],
            "text/plain": [
              "                                    user_id         TENURE  MONTANT  \\\n",
              "0  00001dbe00e56fc4b1c1b65dda63de2a5ece55f9   K > 24 month   5000.0   \n",
              "1  000055d41c8a62052dd426592e8a4a3342bf565d  I 18-21 month    300.0   \n",
              "2  000081dd3245e6869a4a9c574c7050e7bb84c2c8   K > 24 month   3300.0   \n",
              "3  0000b76d2145d9445d9ff6b65c9ebc4196c89337   K > 24 month      NaN   \n",
              "4  0000bae5480628cf8fe51ad84bcb39772fc79224   K > 24 month      NaN   \n",
              "\n",
              "   FREQUENCE_RECH  REVENUE  ARPU_SEGMENT  FREQUENCE  DATA_VOLUME  ON_NET  \\\n",
              "0             5.0   5000.0        1667.0        5.0          NaN   378.0   \n",
              "1             2.0    326.0         109.0        3.0        397.0     NaN   \n",
              "2            25.0   3400.0        1133.0       26.0       7150.0     0.0   \n",
              "3             NaN      NaN           NaN        NaN          NaN     NaN   \n",
              "4             NaN      NaN           NaN        NaN          NaN     NaN   \n",
              "\n",
              "   ORANGE  TIGO  ZONE1  ZONE2  REGULARITY  FREQ_TOP_PACK  \n",
              "0    11.0   5.0    NaN    NaN          42            5.0  \n",
              "1     0.0   NaN    NaN    NaN          41            1.0  \n",
              "2     2.0   5.0    NaN    NaN          57           22.0  \n",
              "3     NaN   NaN    NaN    NaN           9            NaN  \n",
              "4     NaN   NaN    NaN    NaN          10            NaN  "
            ]
          },
          "metadata": {
            "tags": []
          },
          "execution_count": 200
        }
      ]
    },
    {
      "cell_type": "code",
      "metadata": {
        "id": "JlxIi0XcQgTU",
        "colab_type": "code",
        "colab": {}
      },
      "source": [
        "#Fill NAs for train data"
      ],
      "execution_count": null,
      "outputs": []
    },
    {
      "cell_type": "code",
      "metadata": {
        "id": "L7ppUIkEQgTZ",
        "colab_type": "code",
        "colab": {}
      },
      "source": [
        "train['MONTANT'].fillna((train['MONTANT'].mean()), inplace=True)\n",
        "train['FREQUENCE_RECH'].fillna((train['FREQUENCE_RECH'].mean()), inplace=True)\n",
        "train['REVENUE'].fillna((train['REVENUE'].mean()), inplace=True)\n",
        "train['ARPU_SEGMENT'].fillna((train['ARPU_SEGMENT'].mean()), inplace=True)\n",
        "train['FREQUENCE'].fillna((train['FREQUENCE'].mean()), inplace=True)\n",
        "train['DATA_VOLUME'].fillna((train['DATA_VOLUME'].mean()), inplace=True)\n",
        "train['ON_NET'].fillna((train['ON_NET'].mean()), inplace=True)\n",
        "train['ORANGE'].fillna((train['ORANGE'].mean()), inplace=True)\n",
        "train['TIGO'].fillna((train['TIGO'].mean()), inplace=True)\n",
        "train['ZONE1'].fillna((train['ZONE1'].mean()), inplace=True)\n",
        "train['ZONE2'].fillna((train['ZONE2'].mean()), inplace=True)\n",
        "train['FREQ_TOP_PACK'].fillna((train['FREQ_TOP_PACK'].mean()), inplace=True)"
      ],
      "execution_count": null,
      "outputs": []
    },
    {
      "cell_type": "code",
      "metadata": {
        "id": "iWwApMrDQgTe",
        "colab_type": "code",
        "colab": {},
        "outputId": "42e542e9-f6aa-4587-d02d-355305c65bbc"
      },
      "source": [
        "train.head()"
      ],
      "execution_count": null,
      "outputs": [
        {
          "output_type": "execute_result",
          "data": {
            "text/html": [
              "<div>\n",
              "<style scoped>\n",
              "    .dataframe tbody tr th:only-of-type {\n",
              "        vertical-align: middle;\n",
              "    }\n",
              "\n",
              "    .dataframe tbody tr th {\n",
              "        vertical-align: top;\n",
              "    }\n",
              "\n",
              "    .dataframe thead th {\n",
              "        text-align: right;\n",
              "    }\n",
              "</style>\n",
              "<table border=\"1\" class=\"dataframe\">\n",
              "  <thead>\n",
              "    <tr style=\"text-align: right;\">\n",
              "      <th></th>\n",
              "      <th>user_id</th>\n",
              "      <th>TENURE</th>\n",
              "      <th>MONTANT</th>\n",
              "      <th>FREQUENCE_RECH</th>\n",
              "      <th>REVENUE</th>\n",
              "      <th>ARPU_SEGMENT</th>\n",
              "      <th>FREQUENCE</th>\n",
              "      <th>DATA_VOLUME</th>\n",
              "      <th>ON_NET</th>\n",
              "      <th>ORANGE</th>\n",
              "      <th>TIGO</th>\n",
              "      <th>ZONE1</th>\n",
              "      <th>ZONE2</th>\n",
              "      <th>REGULARITY</th>\n",
              "      <th>FREQ_TOP_PACK</th>\n",
              "      <th>CHURN</th>\n",
              "    </tr>\n",
              "  </thead>\n",
              "  <tbody>\n",
              "    <tr>\n",
              "      <th>0</th>\n",
              "      <td>00000bfd7d50f01092811bc0c8d7b0d6fe7c3596</td>\n",
              "      <td>K &gt; 24 month</td>\n",
              "      <td>4250.000000</td>\n",
              "      <td>15.00000</td>\n",
              "      <td>4251.000000</td>\n",
              "      <td>1417.000000</td>\n",
              "      <td>17.000000</td>\n",
              "      <td>4.000000</td>\n",
              "      <td>388.00000</td>\n",
              "      <td>46.000000</td>\n",
              "      <td>1.000000</td>\n",
              "      <td>1.000000</td>\n",
              "      <td>2.000000</td>\n",
              "      <td>54</td>\n",
              "      <td>8.000000</td>\n",
              "      <td>0</td>\n",
              "    </tr>\n",
              "    <tr>\n",
              "      <th>1</th>\n",
              "      <td>00000cb4a5d760de88fecb38e2f71b7bec52e834</td>\n",
              "      <td>I 18-21 month</td>\n",
              "      <td>5532.116998</td>\n",
              "      <td>11.52912</td>\n",
              "      <td>5510.810334</td>\n",
              "      <td>1836.942894</td>\n",
              "      <td>13.978141</td>\n",
              "      <td>3366.450167</td>\n",
              "      <td>277.68914</td>\n",
              "      <td>95.418711</td>\n",
              "      <td>23.109253</td>\n",
              "      <td>8.170132</td>\n",
              "      <td>7.553309</td>\n",
              "      <td>4</td>\n",
              "      <td>9.272461</td>\n",
              "      <td>1</td>\n",
              "    </tr>\n",
              "    <tr>\n",
              "      <th>2</th>\n",
              "      <td>00001654a9d9f96303d9969d0a4a851714a4bb57</td>\n",
              "      <td>K &gt; 24 month</td>\n",
              "      <td>3600.000000</td>\n",
              "      <td>2.00000</td>\n",
              "      <td>1020.000000</td>\n",
              "      <td>340.000000</td>\n",
              "      <td>2.000000</td>\n",
              "      <td>3366.450167</td>\n",
              "      <td>90.00000</td>\n",
              "      <td>46.000000</td>\n",
              "      <td>7.000000</td>\n",
              "      <td>8.170132</td>\n",
              "      <td>7.553309</td>\n",
              "      <td>17</td>\n",
              "      <td>1.000000</td>\n",
              "      <td>0</td>\n",
              "    </tr>\n",
              "    <tr>\n",
              "      <th>3</th>\n",
              "      <td>00001dd6fa45f7ba044bd5d84937be464ce78ac2</td>\n",
              "      <td>K &gt; 24 month</td>\n",
              "      <td>13500.000000</td>\n",
              "      <td>15.00000</td>\n",
              "      <td>13502.000000</td>\n",
              "      <td>4501.000000</td>\n",
              "      <td>18.000000</td>\n",
              "      <td>43804.000000</td>\n",
              "      <td>41.00000</td>\n",
              "      <td>102.000000</td>\n",
              "      <td>2.000000</td>\n",
              "      <td>8.170132</td>\n",
              "      <td>7.553309</td>\n",
              "      <td>62</td>\n",
              "      <td>11.000000</td>\n",
              "      <td>0</td>\n",
              "    </tr>\n",
              "    <tr>\n",
              "      <th>4</th>\n",
              "      <td>000028d9e13a595abe061f9b58f3d76ab907850f</td>\n",
              "      <td>K &gt; 24 month</td>\n",
              "      <td>1000.000000</td>\n",
              "      <td>1.00000</td>\n",
              "      <td>985.000000</td>\n",
              "      <td>328.000000</td>\n",
              "      <td>1.000000</td>\n",
              "      <td>3366.450167</td>\n",
              "      <td>39.00000</td>\n",
              "      <td>24.000000</td>\n",
              "      <td>23.109253</td>\n",
              "      <td>8.170132</td>\n",
              "      <td>7.553309</td>\n",
              "      <td>11</td>\n",
              "      <td>2.000000</td>\n",
              "      <td>0</td>\n",
              "    </tr>\n",
              "  </tbody>\n",
              "</table>\n",
              "</div>"
            ],
            "text/plain": [
              "                                    user_id         TENURE       MONTANT  \\\n",
              "0  00000bfd7d50f01092811bc0c8d7b0d6fe7c3596   K > 24 month   4250.000000   \n",
              "1  00000cb4a5d760de88fecb38e2f71b7bec52e834  I 18-21 month   5532.116998   \n",
              "2  00001654a9d9f96303d9969d0a4a851714a4bb57   K > 24 month   3600.000000   \n",
              "3  00001dd6fa45f7ba044bd5d84937be464ce78ac2   K > 24 month  13500.000000   \n",
              "4  000028d9e13a595abe061f9b58f3d76ab907850f   K > 24 month   1000.000000   \n",
              "\n",
              "   FREQUENCE_RECH       REVENUE  ARPU_SEGMENT  FREQUENCE   DATA_VOLUME  \\\n",
              "0        15.00000   4251.000000   1417.000000  17.000000      4.000000   \n",
              "1        11.52912   5510.810334   1836.942894  13.978141   3366.450167   \n",
              "2         2.00000   1020.000000    340.000000   2.000000   3366.450167   \n",
              "3        15.00000  13502.000000   4501.000000  18.000000  43804.000000   \n",
              "4         1.00000    985.000000    328.000000   1.000000   3366.450167   \n",
              "\n",
              "      ON_NET      ORANGE       TIGO     ZONE1     ZONE2  REGULARITY  \\\n",
              "0  388.00000   46.000000   1.000000  1.000000  2.000000          54   \n",
              "1  277.68914   95.418711  23.109253  8.170132  7.553309           4   \n",
              "2   90.00000   46.000000   7.000000  8.170132  7.553309          17   \n",
              "3   41.00000  102.000000   2.000000  8.170132  7.553309          62   \n",
              "4   39.00000   24.000000  23.109253  8.170132  7.553309          11   \n",
              "\n",
              "   FREQ_TOP_PACK  CHURN  \n",
              "0       8.000000      0  \n",
              "1       9.272461      1  \n",
              "2       1.000000      0  \n",
              "3      11.000000      0  \n",
              "4       2.000000      0  "
            ]
          },
          "metadata": {
            "tags": []
          },
          "execution_count": 203
        }
      ]
    },
    {
      "cell_type": "code",
      "metadata": {
        "id": "OJZpZftjQgTj",
        "colab_type": "code",
        "colab": {},
        "outputId": "b7d9c5e5-7615-4c85-9c7a-18df9b5c5c27"
      },
      "source": [
        "train.isnull().sum()"
      ],
      "execution_count": null,
      "outputs": [
        {
          "output_type": "execute_result",
          "data": {
            "text/plain": [
              "user_id           0\n",
              "TENURE            0\n",
              "MONTANT           0\n",
              "FREQUENCE_RECH    0\n",
              "REVENUE           0\n",
              "ARPU_SEGMENT      0\n",
              "FREQUENCE         0\n",
              "DATA_VOLUME       0\n",
              "ON_NET            0\n",
              "ORANGE            0\n",
              "TIGO              0\n",
              "ZONE1             0\n",
              "ZONE2             0\n",
              "REGULARITY        0\n",
              "FREQ_TOP_PACK     0\n",
              "CHURN             0\n",
              "dtype: int64"
            ]
          },
          "metadata": {
            "tags": []
          },
          "execution_count": 204
        }
      ]
    },
    {
      "cell_type": "code",
      "metadata": {
        "id": "BJSQswuHQgTo",
        "colab_type": "code",
        "colab": {}
      },
      "source": [
        "#Fill NAs for test data"
      ],
      "execution_count": null,
      "outputs": []
    },
    {
      "cell_type": "code",
      "metadata": {
        "id": "TZc0A9HLQgTs",
        "colab_type": "code",
        "colab": {}
      },
      "source": [
        "test['MONTANT'].fillna((test['MONTANT'].mean()), inplace=True)\n",
        "test['FREQUENCE_RECH'].fillna((test['FREQUENCE_RECH'].mean()), inplace=True)\n",
        "test['REVENUE'].fillna((test['REVENUE'].mean()), inplace=True)\n",
        "test['ARPU_SEGMENT'].fillna((test['ARPU_SEGMENT'].mean()), inplace=True)\n",
        "test['FREQUENCE'].fillna((test['FREQUENCE'].mean()), inplace=True)\n",
        "test['DATA_VOLUME'].fillna((test['DATA_VOLUME'].mean()), inplace=True)\n",
        "test['ON_NET'].fillna((test['ON_NET'].mean()), inplace=True)\n",
        "test['ORANGE'].fillna((test['ORANGE'].mean()), inplace=True)\n",
        "test['TIGO'].fillna((test['TIGO'].mean()), inplace=True)\n",
        "test['ZONE1'].fillna((test['ZONE1'].mean()), inplace=True)\n",
        "test['ZONE2'].fillna((test['ZONE2'].mean()), inplace=True)\n",
        "test['FREQ_TOP_PACK'].fillna((test['FREQ_TOP_PACK'].mean()), inplace=True)"
      ],
      "execution_count": null,
      "outputs": []
    },
    {
      "cell_type": "code",
      "metadata": {
        "id": "P8fQQ0eFQgTv",
        "colab_type": "code",
        "colab": {},
        "outputId": "62bfb336-6faf-42d6-d9bc-0d265cbefaff"
      },
      "source": [
        "test.head()"
      ],
      "execution_count": null,
      "outputs": [
        {
          "output_type": "execute_result",
          "data": {
            "text/html": [
              "<div>\n",
              "<style scoped>\n",
              "    .dataframe tbody tr th:only-of-type {\n",
              "        vertical-align: middle;\n",
              "    }\n",
              "\n",
              "    .dataframe tbody tr th {\n",
              "        vertical-align: top;\n",
              "    }\n",
              "\n",
              "    .dataframe thead th {\n",
              "        text-align: right;\n",
              "    }\n",
              "</style>\n",
              "<table border=\"1\" class=\"dataframe\">\n",
              "  <thead>\n",
              "    <tr style=\"text-align: right;\">\n",
              "      <th></th>\n",
              "      <th>user_id</th>\n",
              "      <th>TENURE</th>\n",
              "      <th>MONTANT</th>\n",
              "      <th>FREQUENCE_RECH</th>\n",
              "      <th>REVENUE</th>\n",
              "      <th>ARPU_SEGMENT</th>\n",
              "      <th>FREQUENCE</th>\n",
              "      <th>DATA_VOLUME</th>\n",
              "      <th>ON_NET</th>\n",
              "      <th>ORANGE</th>\n",
              "      <th>TIGO</th>\n",
              "      <th>ZONE1</th>\n",
              "      <th>ZONE2</th>\n",
              "      <th>REGULARITY</th>\n",
              "      <th>FREQ_TOP_PACK</th>\n",
              "    </tr>\n",
              "  </thead>\n",
              "  <tbody>\n",
              "    <tr>\n",
              "      <th>0</th>\n",
              "      <td>00001dbe00e56fc4b1c1b65dda63de2a5ece55f9</td>\n",
              "      <td>K &gt; 24 month</td>\n",
              "      <td>5000.000000</td>\n",
              "      <td>5.000000</td>\n",
              "      <td>5000.000000</td>\n",
              "      <td>1667.000000</td>\n",
              "      <td>5.000000</td>\n",
              "      <td>3346.095454</td>\n",
              "      <td>378.00000</td>\n",
              "      <td>11.000000</td>\n",
              "      <td>5.000000</td>\n",
              "      <td>8.164663</td>\n",
              "      <td>7.6553</td>\n",
              "      <td>42</td>\n",
              "      <td>5.000000</td>\n",
              "    </tr>\n",
              "    <tr>\n",
              "      <th>1</th>\n",
              "      <td>000055d41c8a62052dd426592e8a4a3342bf565d</td>\n",
              "      <td>I 18-21 month</td>\n",
              "      <td>300.000000</td>\n",
              "      <td>2.000000</td>\n",
              "      <td>326.000000</td>\n",
              "      <td>109.000000</td>\n",
              "      <td>3.000000</td>\n",
              "      <td>397.000000</td>\n",
              "      <td>278.80631</td>\n",
              "      <td>0.000000</td>\n",
              "      <td>23.052088</td>\n",
              "      <td>8.164663</td>\n",
              "      <td>7.6553</td>\n",
              "      <td>41</td>\n",
              "      <td>1.000000</td>\n",
              "    </tr>\n",
              "    <tr>\n",
              "      <th>2</th>\n",
              "      <td>000081dd3245e6869a4a9c574c7050e7bb84c2c8</td>\n",
              "      <td>K &gt; 24 month</td>\n",
              "      <td>3300.000000</td>\n",
              "      <td>25.000000</td>\n",
              "      <td>3400.000000</td>\n",
              "      <td>1133.000000</td>\n",
              "      <td>26.000000</td>\n",
              "      <td>7150.000000</td>\n",
              "      <td>0.00000</td>\n",
              "      <td>2.000000</td>\n",
              "      <td>5.000000</td>\n",
              "      <td>8.164663</td>\n",
              "      <td>7.6553</td>\n",
              "      <td>57</td>\n",
              "      <td>22.000000</td>\n",
              "    </tr>\n",
              "    <tr>\n",
              "      <th>3</th>\n",
              "      <td>0000b76d2145d9445d9ff6b65c9ebc4196c89337</td>\n",
              "      <td>K &gt; 24 month</td>\n",
              "      <td>5524.958826</td>\n",
              "      <td>11.519853</td>\n",
              "      <td>5499.680468</td>\n",
              "      <td>1833.232443</td>\n",
              "      <td>13.957963</td>\n",
              "      <td>3346.095454</td>\n",
              "      <td>278.80631</td>\n",
              "      <td>95.193008</td>\n",
              "      <td>23.052088</td>\n",
              "      <td>8.164663</td>\n",
              "      <td>7.6553</td>\n",
              "      <td>9</td>\n",
              "      <td>9.261584</td>\n",
              "    </tr>\n",
              "    <tr>\n",
              "      <th>4</th>\n",
              "      <td>0000bae5480628cf8fe51ad84bcb39772fc79224</td>\n",
              "      <td>K &gt; 24 month</td>\n",
              "      <td>5524.958826</td>\n",
              "      <td>11.519853</td>\n",
              "      <td>5499.680468</td>\n",
              "      <td>1833.232443</td>\n",
              "      <td>13.957963</td>\n",
              "      <td>3346.095454</td>\n",
              "      <td>278.80631</td>\n",
              "      <td>95.193008</td>\n",
              "      <td>23.052088</td>\n",
              "      <td>8.164663</td>\n",
              "      <td>7.6553</td>\n",
              "      <td>10</td>\n",
              "      <td>9.261584</td>\n",
              "    </tr>\n",
              "  </tbody>\n",
              "</table>\n",
              "</div>"
            ],
            "text/plain": [
              "                                    user_id         TENURE      MONTANT  \\\n",
              "0  00001dbe00e56fc4b1c1b65dda63de2a5ece55f9   K > 24 month  5000.000000   \n",
              "1  000055d41c8a62052dd426592e8a4a3342bf565d  I 18-21 month   300.000000   \n",
              "2  000081dd3245e6869a4a9c574c7050e7bb84c2c8   K > 24 month  3300.000000   \n",
              "3  0000b76d2145d9445d9ff6b65c9ebc4196c89337   K > 24 month  5524.958826   \n",
              "4  0000bae5480628cf8fe51ad84bcb39772fc79224   K > 24 month  5524.958826   \n",
              "\n",
              "   FREQUENCE_RECH      REVENUE  ARPU_SEGMENT  FREQUENCE  DATA_VOLUME  \\\n",
              "0        5.000000  5000.000000   1667.000000   5.000000  3346.095454   \n",
              "1        2.000000   326.000000    109.000000   3.000000   397.000000   \n",
              "2       25.000000  3400.000000   1133.000000  26.000000  7150.000000   \n",
              "3       11.519853  5499.680468   1833.232443  13.957963  3346.095454   \n",
              "4       11.519853  5499.680468   1833.232443  13.957963  3346.095454   \n",
              "\n",
              "      ON_NET     ORANGE       TIGO     ZONE1   ZONE2  REGULARITY  \\\n",
              "0  378.00000  11.000000   5.000000  8.164663  7.6553          42   \n",
              "1  278.80631   0.000000  23.052088  8.164663  7.6553          41   \n",
              "2    0.00000   2.000000   5.000000  8.164663  7.6553          57   \n",
              "3  278.80631  95.193008  23.052088  8.164663  7.6553           9   \n",
              "4  278.80631  95.193008  23.052088  8.164663  7.6553          10   \n",
              "\n",
              "   FREQ_TOP_PACK  \n",
              "0       5.000000  \n",
              "1       1.000000  \n",
              "2      22.000000  \n",
              "3       9.261584  \n",
              "4       9.261584  "
            ]
          },
          "metadata": {
            "tags": []
          },
          "execution_count": 207
        }
      ]
    },
    {
      "cell_type": "code",
      "metadata": {
        "id": "CraNWsKkQgT0",
        "colab_type": "code",
        "colab": {},
        "outputId": "1036f078-f2fc-42c7-fe9e-2dcb4016a913"
      },
      "source": [
        "test.isnull().sum()"
      ],
      "execution_count": null,
      "outputs": [
        {
          "output_type": "execute_result",
          "data": {
            "text/plain": [
              "user_id           0\n",
              "TENURE            0\n",
              "MONTANT           0\n",
              "FREQUENCE_RECH    0\n",
              "REVENUE           0\n",
              "ARPU_SEGMENT      0\n",
              "FREQUENCE         0\n",
              "DATA_VOLUME       0\n",
              "ON_NET            0\n",
              "ORANGE            0\n",
              "TIGO              0\n",
              "ZONE1             0\n",
              "ZONE2             0\n",
              "REGULARITY        0\n",
              "FREQ_TOP_PACK     0\n",
              "dtype: int64"
            ]
          },
          "metadata": {
            "tags": []
          },
          "execution_count": 208
        }
      ]
    },
    {
      "cell_type": "markdown",
      "metadata": {
        "id": "QKjdp-BIQgT4",
        "colab_type": "text"
      },
      "source": [
        "## Machine Learning"
      ]
    },
    {
      "cell_type": "code",
      "metadata": {
        "id": "EICkX4kmQgT5",
        "colab_type": "code",
        "colab": {}
      },
      "source": [
        "from sklearn.model_selection import train_test_split,cross_val_score\n",
        "from sklearn.metrics import accuracy_score,confusion_matrix,recall_score,precision_recall_curve, f1_score\n",
        "from sklearn.preprocessing import StandardScaler\n",
        "from sklearn.ensemble import RandomForestClassifier\n",
        "from sklearn.preprocessing import LabelEncoder"
      ],
      "execution_count": 1,
      "outputs": []
    },
    {
      "cell_type": "code",
      "metadata": {
        "id": "EdBHrTwyQgT-",
        "colab_type": "code",
        "colab": {},
        "outputId": "a72517cc-6eea-4cdb-c37e-a96a6476d0b9"
      },
      "source": [
        "dropcols = ['user_id', 'CHURN']\n",
        "y = train['CHURN']\n",
        "x = train.drop(columns=dropcols, axis=1)\n",
        "test = test.drop(columns=['user_id'], axis=1) #you will use this for predicting and submitting the resulting\n",
        "print(x.shape)\n",
        "print(y.shape)\n",
        "print(test.shape)"
      ],
      "execution_count": null,
      "outputs": [
        {
          "output_type": "stream",
          "text": [
            "(2154048, 14)\n",
            "(2154048,)\n",
            "(380127, 14)\n"
          ],
          "name": "stdout"
        }
      ]
    },
    {
      "cell_type": "code",
      "metadata": {
        "id": "1fdwtXPjQgUD",
        "colab_type": "code",
        "colab": {}
      },
      "source": [
        "#Split training data into train and test split"
      ],
      "execution_count": null,
      "outputs": []
    },
    {
      "cell_type": "code",
      "metadata": {
        "id": "knwDMLn2QgUG",
        "colab_type": "code",
        "colab": {},
        "outputId": "cc612072-59b2-4d62-e548-2a3f55490e21"
      },
      "source": [
        "X_train,X_test,y_train,y_test = train_test_split(x,y,test_size = 0.5,random_state=1)\n",
        "print(X_train.shape)\n",
        "print(y_train.shape)\n",
        "\n",
        "print(X_test.shape)\n",
        "print(y_test.shape)"
      ],
      "execution_count": null,
      "outputs": [
        {
          "output_type": "stream",
          "text": [
            "(1077024, 14)\n",
            "(1077024,)\n",
            "(1077024, 14)\n",
            "(1077024,)\n"
          ],
          "name": "stdout"
        }
      ]
    },
    {
      "cell_type": "code",
      "metadata": {
        "id": "mHnhktd7QgUK",
        "colab_type": "code",
        "colab": {}
      },
      "source": [
        "#Further split X_train and y_train into train and validation sets"
      ],
      "execution_count": null,
      "outputs": []
    },
    {
      "cell_type": "code",
      "metadata": {
        "id": "NFuRMrPIQgUN",
        "colab_type": "code",
        "colab": {}
      },
      "source": [
        "X_train,X_val,y_train,y_val = train_test_split(X_train,y_train,test_size = 0.3, random_state=1)"
      ],
      "execution_count": null,
      "outputs": []
    },
    {
      "cell_type": "code",
      "metadata": {
        "id": "tGufhTA-QgUP",
        "colab_type": "code",
        "colab": {},
        "outputId": "71ba5356-63aa-43ac-a74d-103b35be151e"
      },
      "source": [
        "print(\"train\")\n",
        "print(X_train.shape)\n",
        "print(y_train.shape)\n",
        "print(\"+\"*7)\n",
        "print(\"test\")\n",
        "print(X_test.shape)\n",
        "print(y_test.shape)\n",
        "print(\"+\"*7)\n",
        "print(\"validation\")\n",
        "print(X_val.shape)\n",
        "print(y_val.shape)"
      ],
      "execution_count": null,
      "outputs": [
        {
          "output_type": "stream",
          "text": [
            "train\n",
            "(753916, 14)\n",
            "(753916,)\n",
            "+++++++\n",
            "test\n",
            "(1077024, 14)\n",
            "(1077024,)\n",
            "+++++++\n",
            "validation\n",
            "(323108, 14)\n",
            "(323108,)\n"
          ],
          "name": "stdout"
        }
      ]
    },
    {
      "cell_type": "code",
      "metadata": {
        "id": "6BBvXPFuQgUS",
        "colab_type": "code",
        "colab": {}
      },
      "source": [
        "#Standardize numeric columns"
      ],
      "execution_count": null,
      "outputs": []
    },
    {
      "cell_type": "code",
      "metadata": {
        "id": "cf1VzWhDQgUV",
        "colab_type": "code",
        "colab": {}
      },
      "source": [
        "num_cols = ['MONTANT', 'FREQUENCE_RECH', 'REVENUE', 'ARPU_SEGMENT', 'FREQUENCE',\n",
        "       'DATA_VOLUME', 'ON_NET', 'ORANGE', 'TIGO', 'ZONE1', 'ZONE2',\n",
        "       'REGULARITY', 'FREQ_TOP_PACK']"
      ],
      "execution_count": null,
      "outputs": []
    },
    {
      "cell_type": "code",
      "metadata": {
        "id": "Ko8Fcq6dQgUZ",
        "colab_type": "code",
        "colab": {}
      },
      "source": [
        "scaler = StandardScaler()"
      ],
      "execution_count": null,
      "outputs": []
    },
    {
      "cell_type": "code",
      "metadata": {
        "id": "SBvf2nthQgUc",
        "colab_type": "code",
        "colab": {}
      },
      "source": [
        "X_train[num_cols] = scaler.fit_transform(X_train[num_cols])"
      ],
      "execution_count": null,
      "outputs": []
    },
    {
      "cell_type": "code",
      "metadata": {
        "id": "XZ3Yl48YQgUg",
        "colab_type": "code",
        "colab": {},
        "outputId": "285280e0-bb81-402a-e4f8-8379d57867de"
      },
      "source": [
        "X_train.head()"
      ],
      "execution_count": null,
      "outputs": [
        {
          "output_type": "execute_result",
          "data": {
            "text/html": [
              "<div>\n",
              "<style scoped>\n",
              "    .dataframe tbody tr th:only-of-type {\n",
              "        vertical-align: middle;\n",
              "    }\n",
              "\n",
              "    .dataframe tbody tr th {\n",
              "        vertical-align: top;\n",
              "    }\n",
              "\n",
              "    .dataframe thead th {\n",
              "        text-align: right;\n",
              "    }\n",
              "</style>\n",
              "<table border=\"1\" class=\"dataframe\">\n",
              "  <thead>\n",
              "    <tr style=\"text-align: right;\">\n",
              "      <th></th>\n",
              "      <th>TENURE</th>\n",
              "      <th>MONTANT</th>\n",
              "      <th>FREQUENCE_RECH</th>\n",
              "      <th>REVENUE</th>\n",
              "      <th>ARPU_SEGMENT</th>\n",
              "      <th>FREQUENCE</th>\n",
              "      <th>DATA_VOLUME</th>\n",
              "      <th>ON_NET</th>\n",
              "      <th>ORANGE</th>\n",
              "      <th>TIGO</th>\n",
              "      <th>ZONE1</th>\n",
              "      <th>ZONE2</th>\n",
              "      <th>REGULARITY</th>\n",
              "      <th>FREQ_TOP_PACK</th>\n",
              "    </tr>\n",
              "  </thead>\n",
              "  <tbody>\n",
              "    <tr>\n",
              "      <th>829510</th>\n",
              "      <td>K &gt; 24 month</td>\n",
              "      <td>-0.775034</td>\n",
              "      <td>-0.611459</td>\n",
              "      <td>-0.755022</td>\n",
              "      <td>-0.754855</td>\n",
              "      <td>-0.750871</td>\n",
              "      <td>-0.358105</td>\n",
              "      <td>-0.370788</td>\n",
              "      <td>-0.495765</td>\n",
              "      <td>-0.583063</td>\n",
              "      <td>-0.678894</td>\n",
              "      <td>-0.000554</td>\n",
              "      <td>1.522906</td>\n",
              "      <td>-0.779625</td>\n",
              "    </tr>\n",
              "    <tr>\n",
              "      <th>693020</th>\n",
              "      <td>K &gt; 24 month</td>\n",
              "      <td>0.000360</td>\n",
              "      <td>0.000902</td>\n",
              "      <td>0.000552</td>\n",
              "      <td>0.000552</td>\n",
              "      <td>0.000907</td>\n",
              "      <td>0.000157</td>\n",
              "      <td>0.000446</td>\n",
              "      <td>-0.000412</td>\n",
              "      <td>0.001901</td>\n",
              "      <td>0.001059</td>\n",
              "      <td>-0.000554</td>\n",
              "      <td>-0.989467</td>\n",
              "      <td>0.001192</td>\n",
              "    </tr>\n",
              "    <tr>\n",
              "      <th>1177807</th>\n",
              "      <td>K &gt; 24 month</td>\n",
              "      <td>0.000360</td>\n",
              "      <td>0.000902</td>\n",
              "      <td>-0.924952</td>\n",
              "      <td>-0.924957</td>\n",
              "      <td>-1.085808</td>\n",
              "      <td>0.000157</td>\n",
              "      <td>0.000446</td>\n",
              "      <td>-0.000412</td>\n",
              "      <td>0.001901</td>\n",
              "      <td>0.001059</td>\n",
              "      <td>-0.000554</td>\n",
              "      <td>-1.213786</td>\n",
              "      <td>0.001192</td>\n",
              "    </tr>\n",
              "    <tr>\n",
              "      <th>40576</th>\n",
              "      <td>K &gt; 24 month</td>\n",
              "      <td>0.000360</td>\n",
              "      <td>0.000902</td>\n",
              "      <td>0.000552</td>\n",
              "      <td>0.000552</td>\n",
              "      <td>0.000907</td>\n",
              "      <td>-0.357998</td>\n",
              "      <td>0.000446</td>\n",
              "      <td>-0.000412</td>\n",
              "      <td>0.001901</td>\n",
              "      <td>0.001059</td>\n",
              "      <td>-0.000554</td>\n",
              "      <td>-0.451101</td>\n",
              "      <td>0.001192</td>\n",
              "    </tr>\n",
              "    <tr>\n",
              "      <th>1023530</th>\n",
              "      <td>K &gt; 24 month</td>\n",
              "      <td>-0.783781</td>\n",
              "      <td>-0.892827</td>\n",
              "      <td>-0.862770</td>\n",
              "      <td>-0.862774</td>\n",
              "      <td>-0.750871</td>\n",
              "      <td>-0.230932</td>\n",
              "      <td>-0.399600</td>\n",
              "      <td>-0.534155</td>\n",
              "      <td>0.001901</td>\n",
              "      <td>0.001059</td>\n",
              "      <td>-0.000554</td>\n",
              "      <td>-0.989467</td>\n",
              "      <td>-0.886992</td>\n",
              "    </tr>\n",
              "  </tbody>\n",
              "</table>\n",
              "</div>"
            ],
            "text/plain": [
              "               TENURE   MONTANT  FREQUENCE_RECH   REVENUE  ARPU_SEGMENT  \\\n",
              "829510   K > 24 month -0.775034       -0.611459 -0.755022     -0.754855   \n",
              "693020   K > 24 month  0.000360        0.000902  0.000552      0.000552   \n",
              "1177807  K > 24 month  0.000360        0.000902 -0.924952     -0.924957   \n",
              "40576    K > 24 month  0.000360        0.000902  0.000552      0.000552   \n",
              "1023530  K > 24 month -0.783781       -0.892827 -0.862770     -0.862774   \n",
              "\n",
              "         FREQUENCE  DATA_VOLUME    ON_NET    ORANGE      TIGO     ZONE1  \\\n",
              "829510   -0.750871    -0.358105 -0.370788 -0.495765 -0.583063 -0.678894   \n",
              "693020    0.000907     0.000157  0.000446 -0.000412  0.001901  0.001059   \n",
              "1177807  -1.085808     0.000157  0.000446 -0.000412  0.001901  0.001059   \n",
              "40576     0.000907    -0.357998  0.000446 -0.000412  0.001901  0.001059   \n",
              "1023530  -0.750871    -0.230932 -0.399600 -0.534155  0.001901  0.001059   \n",
              "\n",
              "            ZONE2  REGULARITY  FREQ_TOP_PACK  \n",
              "829510  -0.000554    1.522906      -0.779625  \n",
              "693020  -0.000554   -0.989467       0.001192  \n",
              "1177807 -0.000554   -1.213786       0.001192  \n",
              "40576   -0.000554   -0.451101       0.001192  \n",
              "1023530 -0.000554   -0.989467      -0.886992  "
            ]
          },
          "metadata": {
            "tags": []
          },
          "execution_count": 219
        }
      ]
    },
    {
      "cell_type": "code",
      "metadata": {
        "id": "lOPi3YSaQgUk",
        "colab_type": "code",
        "colab": {}
      },
      "source": [
        "X_test[num_cols] = scaler.transform(X_test[num_cols])"
      ],
      "execution_count": null,
      "outputs": []
    },
    {
      "cell_type": "code",
      "metadata": {
        "id": "-2rHzQUHQgUn",
        "colab_type": "code",
        "colab": {},
        "outputId": "6f1fb4f1-0857-4c25-c021-e76c50e4fcd4"
      },
      "source": [
        "X_test.head()"
      ],
      "execution_count": null,
      "outputs": [
        {
          "output_type": "execute_result",
          "data": {
            "text/html": [
              "<div>\n",
              "<style scoped>\n",
              "    .dataframe tbody tr th:only-of-type {\n",
              "        vertical-align: middle;\n",
              "    }\n",
              "\n",
              "    .dataframe tbody tr th {\n",
              "        vertical-align: top;\n",
              "    }\n",
              "\n",
              "    .dataframe thead th {\n",
              "        text-align: right;\n",
              "    }\n",
              "</style>\n",
              "<table border=\"1\" class=\"dataframe\">\n",
              "  <thead>\n",
              "    <tr style=\"text-align: right;\">\n",
              "      <th></th>\n",
              "      <th>TENURE</th>\n",
              "      <th>MONTANT</th>\n",
              "      <th>FREQUENCE_RECH</th>\n",
              "      <th>REVENUE</th>\n",
              "      <th>ARPU_SEGMENT</th>\n",
              "      <th>FREQUENCE</th>\n",
              "      <th>DATA_VOLUME</th>\n",
              "      <th>ON_NET</th>\n",
              "      <th>ORANGE</th>\n",
              "      <th>TIGO</th>\n",
              "      <th>ZONE1</th>\n",
              "      <th>ZONE2</th>\n",
              "      <th>REGULARITY</th>\n",
              "      <th>FREQ_TOP_PACK</th>\n",
              "    </tr>\n",
              "  </thead>\n",
              "  <tbody>\n",
              "    <tr>\n",
              "      <th>417912</th>\n",
              "      <td>K &gt; 24 month</td>\n",
              "      <td>5.505631</td>\n",
              "      <td>0.889169</td>\n",
              "      <td>5.582754</td>\n",
              "      <td>5.582587</td>\n",
              "      <td>1.007548</td>\n",
              "      <td>-0.165163</td>\n",
              "      <td>1.506348</td>\n",
              "      <td>6.836756</td>\n",
              "      <td>3.922643</td>\n",
              "      <td>0.001059</td>\n",
              "      <td>-0.000554</td>\n",
              "      <td>1.522906</td>\n",
              "      <td>2.548730</td>\n",
              "    </tr>\n",
              "    <tr>\n",
              "      <th>1380278</th>\n",
              "      <td>K &gt; 24 month</td>\n",
              "      <td>-0.355157</td>\n",
              "      <td>-0.423880</td>\n",
              "      <td>-0.343901</td>\n",
              "      <td>-0.343733</td>\n",
              "      <td>-0.583403</td>\n",
              "      <td>0.000157</td>\n",
              "      <td>-0.356382</td>\n",
              "      <td>-0.035083</td>\n",
              "      <td>-0.405872</td>\n",
              "      <td>0.001059</td>\n",
              "      <td>-0.000554</td>\n",
              "      <td>-0.226782</td>\n",
              "      <td>-0.242794</td>\n",
              "    </tr>\n",
              "    <tr>\n",
              "      <th>657158</th>\n",
              "      <td>K &gt; 24 month</td>\n",
              "      <td>0.000360</td>\n",
              "      <td>0.000902</td>\n",
              "      <td>0.000552</td>\n",
              "      <td>0.000552</td>\n",
              "      <td>0.000907</td>\n",
              "      <td>0.000157</td>\n",
              "      <td>0.000446</td>\n",
              "      <td>-0.000412</td>\n",
              "      <td>0.001901</td>\n",
              "      <td>0.001059</td>\n",
              "      <td>-0.000554</td>\n",
              "      <td>-0.181919</td>\n",
              "      <td>0.001192</td>\n",
              "    </tr>\n",
              "    <tr>\n",
              "      <th>228934</th>\n",
              "      <td>I 18-21 month</td>\n",
              "      <td>0.000360</td>\n",
              "      <td>0.000902</td>\n",
              "      <td>0.000552</td>\n",
              "      <td>0.000552</td>\n",
              "      <td>0.000907</td>\n",
              "      <td>0.000157</td>\n",
              "      <td>0.000446</td>\n",
              "      <td>-0.000412</td>\n",
              "      <td>0.001901</td>\n",
              "      <td>0.001059</td>\n",
              "      <td>-0.000554</td>\n",
              "      <td>-1.213786</td>\n",
              "      <td>0.001192</td>\n",
              "    </tr>\n",
              "    <tr>\n",
              "      <th>2020145</th>\n",
              "      <td>K &gt; 24 month</td>\n",
              "      <td>2.199097</td>\n",
              "      <td>0.420223</td>\n",
              "      <td>2.157086</td>\n",
              "      <td>2.156915</td>\n",
              "      <td>0.253940</td>\n",
              "      <td>0.000157</td>\n",
              "      <td>0.120466</td>\n",
              "      <td>0.636745</td>\n",
              "      <td>-0.507124</td>\n",
              "      <td>0.001059</td>\n",
              "      <td>-0.000554</td>\n",
              "      <td>1.119131</td>\n",
              "      <td>0.830869</td>\n",
              "    </tr>\n",
              "  </tbody>\n",
              "</table>\n",
              "</div>"
            ],
            "text/plain": [
              "                TENURE   MONTANT  FREQUENCE_RECH   REVENUE  ARPU_SEGMENT  \\\n",
              "417912    K > 24 month  5.505631        0.889169  5.582754      5.582587   \n",
              "1380278   K > 24 month -0.355157       -0.423880 -0.343901     -0.343733   \n",
              "657158    K > 24 month  0.000360        0.000902  0.000552      0.000552   \n",
              "228934   I 18-21 month  0.000360        0.000902  0.000552      0.000552   \n",
              "2020145   K > 24 month  2.199097        0.420223  2.157086      2.156915   \n",
              "\n",
              "         FREQUENCE  DATA_VOLUME    ON_NET    ORANGE      TIGO     ZONE1  \\\n",
              "417912    1.007548    -0.165163  1.506348  6.836756  3.922643  0.001059   \n",
              "1380278  -0.583403     0.000157 -0.356382 -0.035083 -0.405872  0.001059   \n",
              "657158    0.000907     0.000157  0.000446 -0.000412  0.001901  0.001059   \n",
              "228934    0.000907     0.000157  0.000446 -0.000412  0.001901  0.001059   \n",
              "2020145   0.253940     0.000157  0.120466  0.636745 -0.507124  0.001059   \n",
              "\n",
              "            ZONE2  REGULARITY  FREQ_TOP_PACK  \n",
              "417912  -0.000554    1.522906       2.548730  \n",
              "1380278 -0.000554   -0.226782      -0.242794  \n",
              "657158  -0.000554   -0.181919       0.001192  \n",
              "228934  -0.000554   -1.213786       0.001192  \n",
              "2020145 -0.000554    1.119131       0.830869  "
            ]
          },
          "metadata": {
            "tags": []
          },
          "execution_count": 221
        }
      ]
    },
    {
      "cell_type": "code",
      "metadata": {
        "id": "TuwjJc4EQgUr",
        "colab_type": "code",
        "colab": {}
      },
      "source": [
        "test[num_cols] = scaler.transform(test[num_cols])"
      ],
      "execution_count": null,
      "outputs": []
    },
    {
      "cell_type": "code",
      "metadata": {
        "id": "RRj-u2aZQgUu",
        "colab_type": "code",
        "colab": {},
        "outputId": "29c4e8f5-dc21-4f4a-fe1a-5d2a56d42fcb"
      },
      "source": [
        "test.head()"
      ],
      "execution_count": null,
      "outputs": [
        {
          "output_type": "execute_result",
          "data": {
            "text/html": [
              "<div>\n",
              "<style scoped>\n",
              "    .dataframe tbody tr th:only-of-type {\n",
              "        vertical-align: middle;\n",
              "    }\n",
              "\n",
              "    .dataframe tbody tr th {\n",
              "        vertical-align: top;\n",
              "    }\n",
              "\n",
              "    .dataframe thead th {\n",
              "        text-align: right;\n",
              "    }\n",
              "</style>\n",
              "<table border=\"1\" class=\"dataframe\">\n",
              "  <thead>\n",
              "    <tr style=\"text-align: right;\">\n",
              "      <th></th>\n",
              "      <th>TENURE</th>\n",
              "      <th>MONTANT</th>\n",
              "      <th>FREQUENCE_RECH</th>\n",
              "      <th>REVENUE</th>\n",
              "      <th>ARPU_SEGMENT</th>\n",
              "      <th>FREQUENCE</th>\n",
              "      <th>DATA_VOLUME</th>\n",
              "      <th>ON_NET</th>\n",
              "      <th>ORANGE</th>\n",
              "      <th>TIGO</th>\n",
              "      <th>ZONE1</th>\n",
              "      <th>ZONE2</th>\n",
              "      <th>REGULARITY</th>\n",
              "      <th>FREQ_TOP_PACK</th>\n",
              "    </tr>\n",
              "  </thead>\n",
              "  <tbody>\n",
              "    <tr>\n",
              "      <th>0</th>\n",
              "      <td>K &gt; 24 month</td>\n",
              "      <td>-0.092733</td>\n",
              "      <td>-0.611459</td>\n",
              "      <td>-0.086950</td>\n",
              "      <td>-0.086782</td>\n",
              "      <td>-0.750871</td>\n",
              "      <td>-0.002009</td>\n",
              "      <td>0.144956</td>\n",
              "      <td>-0.540553</td>\n",
              "      <td>-0.456498</td>\n",
              "      <td>0.00054</td>\n",
              "      <td>0.011407</td>\n",
              "      <td>0.625630</td>\n",
              "      <td>-0.457526</td>\n",
              "    </tr>\n",
              "    <tr>\n",
              "      <th>1</th>\n",
              "      <td>I 18-21 month</td>\n",
              "      <td>-0.914993</td>\n",
              "      <td>-0.892827</td>\n",
              "      <td>-0.887609</td>\n",
              "      <td>-0.887442</td>\n",
              "      <td>-0.918340</td>\n",
              "      <td>-0.315856</td>\n",
              "      <td>0.002055</td>\n",
              "      <td>-0.610935</td>\n",
              "      <td>0.000454</td>\n",
              "      <td>0.00054</td>\n",
              "      <td>0.011407</td>\n",
              "      <td>0.580766</td>\n",
              "      <td>-0.886992</td>\n",
              "    </tr>\n",
              "    <tr>\n",
              "      <th>2</th>\n",
              "      <td>K &gt; 24 month</td>\n",
              "      <td>-0.390146</td>\n",
              "      <td>1.264326</td>\n",
              "      <td>-0.361031</td>\n",
              "      <td>-0.361206</td>\n",
              "      <td>1.007548</td>\n",
              "      <td>0.402807</td>\n",
              "      <td>-0.399600</td>\n",
              "      <td>-0.598139</td>\n",
              "      <td>-0.456498</td>\n",
              "      <td>0.00054</td>\n",
              "      <td>0.011407</td>\n",
              "      <td>1.298587</td>\n",
              "      <td>1.367700</td>\n",
              "    </tr>\n",
              "    <tr>\n",
              "      <th>3</th>\n",
              "      <td>K &gt; 24 month</td>\n",
              "      <td>-0.000892</td>\n",
              "      <td>0.000033</td>\n",
              "      <td>-0.001355</td>\n",
              "      <td>-0.001355</td>\n",
              "      <td>-0.000783</td>\n",
              "      <td>-0.002009</td>\n",
              "      <td>0.002055</td>\n",
              "      <td>-0.001856</td>\n",
              "      <td>0.000454</td>\n",
              "      <td>0.00054</td>\n",
              "      <td>0.011407</td>\n",
              "      <td>-0.854876</td>\n",
              "      <td>0.000024</td>\n",
              "    </tr>\n",
              "    <tr>\n",
              "      <th>4</th>\n",
              "      <td>K &gt; 24 month</td>\n",
              "      <td>-0.000892</td>\n",
              "      <td>0.000033</td>\n",
              "      <td>-0.001355</td>\n",
              "      <td>-0.001355</td>\n",
              "      <td>-0.000783</td>\n",
              "      <td>-0.002009</td>\n",
              "      <td>0.002055</td>\n",
              "      <td>-0.001856</td>\n",
              "      <td>0.000454</td>\n",
              "      <td>0.00054</td>\n",
              "      <td>0.011407</td>\n",
              "      <td>-0.810012</td>\n",
              "      <td>0.000024</td>\n",
              "    </tr>\n",
              "  </tbody>\n",
              "</table>\n",
              "</div>"
            ],
            "text/plain": [
              "          TENURE   MONTANT  FREQUENCE_RECH   REVENUE  ARPU_SEGMENT  FREQUENCE  \\\n",
              "0   K > 24 month -0.092733       -0.611459 -0.086950     -0.086782  -0.750871   \n",
              "1  I 18-21 month -0.914993       -0.892827 -0.887609     -0.887442  -0.918340   \n",
              "2   K > 24 month -0.390146        1.264326 -0.361031     -0.361206   1.007548   \n",
              "3   K > 24 month -0.000892        0.000033 -0.001355     -0.001355  -0.000783   \n",
              "4   K > 24 month -0.000892        0.000033 -0.001355     -0.001355  -0.000783   \n",
              "\n",
              "   DATA_VOLUME    ON_NET    ORANGE      TIGO    ZONE1     ZONE2  REGULARITY  \\\n",
              "0    -0.002009  0.144956 -0.540553 -0.456498  0.00054  0.011407    0.625630   \n",
              "1    -0.315856  0.002055 -0.610935  0.000454  0.00054  0.011407    0.580766   \n",
              "2     0.402807 -0.399600 -0.598139 -0.456498  0.00054  0.011407    1.298587   \n",
              "3    -0.002009  0.002055 -0.001856  0.000454  0.00054  0.011407   -0.854876   \n",
              "4    -0.002009  0.002055 -0.001856  0.000454  0.00054  0.011407   -0.810012   \n",
              "\n",
              "   FREQ_TOP_PACK  \n",
              "0      -0.457526  \n",
              "1      -0.886992  \n",
              "2       1.367700  \n",
              "3       0.000024  \n",
              "4       0.000024  "
            ]
          },
          "metadata": {
            "tags": []
          },
          "execution_count": 223
        }
      ]
    },
    {
      "cell_type": "code",
      "metadata": {
        "id": "DtBHHL5yQgUz",
        "colab_type": "code",
        "colab": {}
      },
      "source": [
        "X_val[num_cols] = scaler.transform(X_val[num_cols])"
      ],
      "execution_count": null,
      "outputs": []
    },
    {
      "cell_type": "code",
      "metadata": {
        "id": "iPtb-VGrQgU2",
        "colab_type": "code",
        "colab": {},
        "outputId": "039c7099-d1c7-4e90-ca09-14731ff8bc76"
      },
      "source": [
        "X_val.head()"
      ],
      "execution_count": null,
      "outputs": [
        {
          "output_type": "execute_result",
          "data": {
            "text/html": [
              "<div>\n",
              "<style scoped>\n",
              "    .dataframe tbody tr th:only-of-type {\n",
              "        vertical-align: middle;\n",
              "    }\n",
              "\n",
              "    .dataframe tbody tr th {\n",
              "        vertical-align: top;\n",
              "    }\n",
              "\n",
              "    .dataframe thead th {\n",
              "        text-align: right;\n",
              "    }\n",
              "</style>\n",
              "<table border=\"1\" class=\"dataframe\">\n",
              "  <thead>\n",
              "    <tr style=\"text-align: right;\">\n",
              "      <th></th>\n",
              "      <th>TENURE</th>\n",
              "      <th>MONTANT</th>\n",
              "      <th>FREQUENCE_RECH</th>\n",
              "      <th>REVENUE</th>\n",
              "      <th>ARPU_SEGMENT</th>\n",
              "      <th>FREQUENCE</th>\n",
              "      <th>DATA_VOLUME</th>\n",
              "      <th>ON_NET</th>\n",
              "      <th>ORANGE</th>\n",
              "      <th>TIGO</th>\n",
              "      <th>ZONE1</th>\n",
              "      <th>ZONE2</th>\n",
              "      <th>REGULARITY</th>\n",
              "      <th>FREQ_TOP_PACK</th>\n",
              "    </tr>\n",
              "  </thead>\n",
              "  <tbody>\n",
              "    <tr>\n",
              "      <th>668814</th>\n",
              "      <td>K &gt; 24 month</td>\n",
              "      <td>0.000360</td>\n",
              "      <td>0.000902</td>\n",
              "      <td>0.000552</td>\n",
              "      <td>0.000552</td>\n",
              "      <td>0.000907</td>\n",
              "      <td>0.000157</td>\n",
              "      <td>0.000446</td>\n",
              "      <td>-0.000412</td>\n",
              "      <td>0.001901</td>\n",
              "      <td>0.001059</td>\n",
              "      <td>-0.000554</td>\n",
              "      <td>-0.989467</td>\n",
              "      <td>0.001192</td>\n",
              "    </tr>\n",
              "    <tr>\n",
              "      <th>1273739</th>\n",
              "      <td>K &gt; 24 month</td>\n",
              "      <td>-0.670065</td>\n",
              "      <td>-0.517670</td>\n",
              "      <td>-0.745772</td>\n",
              "      <td>-0.745605</td>\n",
              "      <td>-0.080997</td>\n",
              "      <td>-0.357892</td>\n",
              "      <td>-0.399600</td>\n",
              "      <td>-0.566147</td>\n",
              "      <td>-0.532437</td>\n",
              "      <td>0.001059</td>\n",
              "      <td>-0.000554</td>\n",
              "      <td>-0.271646</td>\n",
              "      <td>0.001192</td>\n",
              "    </tr>\n",
              "    <tr>\n",
              "      <th>494342</th>\n",
              "      <td>K &gt; 24 month</td>\n",
              "      <td>0.956960</td>\n",
              "      <td>-0.799037</td>\n",
              "      <td>2.350142</td>\n",
              "      <td>2.350142</td>\n",
              "      <td>-0.415934</td>\n",
              "      <td>3.992607</td>\n",
              "      <td>0.022503</td>\n",
              "      <td>-0.265424</td>\n",
              "      <td>0.429455</td>\n",
              "      <td>1.691886</td>\n",
              "      <td>-0.000554</td>\n",
              "      <td>1.522906</td>\n",
              "      <td>-0.672259</td>\n",
              "    </tr>\n",
              "    <tr>\n",
              "      <th>1933861</th>\n",
              "      <td>K &gt; 24 month</td>\n",
              "      <td>-0.845013</td>\n",
              "      <td>-0.517670</td>\n",
              "      <td>-0.841186</td>\n",
              "      <td>-0.841191</td>\n",
              "      <td>-0.583403</td>\n",
              "      <td>0.000157</td>\n",
              "      <td>-0.392397</td>\n",
              "      <td>-0.000412</td>\n",
              "      <td>0.001901</td>\n",
              "      <td>0.001059</td>\n",
              "      <td>-0.000554</td>\n",
              "      <td>0.356447</td>\n",
              "      <td>0.001192</td>\n",
              "    </tr>\n",
              "    <tr>\n",
              "      <th>1369873</th>\n",
              "      <td>K &gt; 24 month</td>\n",
              "      <td>-0.932488</td>\n",
              "      <td>-0.892827</td>\n",
              "      <td>-0.913818</td>\n",
              "      <td>-0.913651</td>\n",
              "      <td>-1.002074</td>\n",
              "      <td>0.000157</td>\n",
              "      <td>-0.398160</td>\n",
              "      <td>-0.610935</td>\n",
              "      <td>0.001901</td>\n",
              "      <td>0.001059</td>\n",
              "      <td>-0.000554</td>\n",
              "      <td>0.580766</td>\n",
              "      <td>0.001192</td>\n",
              "    </tr>\n",
              "  </tbody>\n",
              "</table>\n",
              "</div>"
            ],
            "text/plain": [
              "               TENURE   MONTANT  FREQUENCE_RECH   REVENUE  ARPU_SEGMENT  \\\n",
              "668814   K > 24 month  0.000360        0.000902  0.000552      0.000552   \n",
              "1273739  K > 24 month -0.670065       -0.517670 -0.745772     -0.745605   \n",
              "494342   K > 24 month  0.956960       -0.799037  2.350142      2.350142   \n",
              "1933861  K > 24 month -0.845013       -0.517670 -0.841186     -0.841191   \n",
              "1369873  K > 24 month -0.932488       -0.892827 -0.913818     -0.913651   \n",
              "\n",
              "         FREQUENCE  DATA_VOLUME    ON_NET    ORANGE      TIGO     ZONE1  \\\n",
              "668814    0.000907     0.000157  0.000446 -0.000412  0.001901  0.001059   \n",
              "1273739  -0.080997    -0.357892 -0.399600 -0.566147 -0.532437  0.001059   \n",
              "494342   -0.415934     3.992607  0.022503 -0.265424  0.429455  1.691886   \n",
              "1933861  -0.583403     0.000157 -0.392397 -0.000412  0.001901  0.001059   \n",
              "1369873  -1.002074     0.000157 -0.398160 -0.610935  0.001901  0.001059   \n",
              "\n",
              "            ZONE2  REGULARITY  FREQ_TOP_PACK  \n",
              "668814  -0.000554   -0.989467       0.001192  \n",
              "1273739 -0.000554   -0.271646       0.001192  \n",
              "494342  -0.000554    1.522906      -0.672259  \n",
              "1933861 -0.000554    0.356447       0.001192  \n",
              "1369873 -0.000554    0.580766       0.001192  "
            ]
          },
          "metadata": {
            "tags": []
          },
          "execution_count": 225
        }
      ]
    },
    {
      "cell_type": "code",
      "metadata": {
        "id": "xmHnJgi4QgU6",
        "colab_type": "code",
        "colab": {}
      },
      "source": [
        "#Encode the TENURE column"
      ],
      "execution_count": null,
      "outputs": []
    },
    {
      "cell_type": "code",
      "metadata": {
        "id": "Up-6-hwKQgU-",
        "colab_type": "code",
        "colab": {}
      },
      "source": [
        "encoder = LabelEncoder()\n",
        "X_train[\"TENURE\"] = encoder.fit_transform(X_train[\"TENURE\"])"
      ],
      "execution_count": null,
      "outputs": []
    },
    {
      "cell_type": "code",
      "metadata": {
        "id": "cPZiPR0YQgVB",
        "colab_type": "code",
        "colab": {}
      },
      "source": [
        "X_test[\"TENURE\"] = encoder.transform(X_test[\"TENURE\"])"
      ],
      "execution_count": null,
      "outputs": []
    },
    {
      "cell_type": "code",
      "metadata": {
        "id": "LVh53YobQgVF",
        "colab_type": "code",
        "colab": {}
      },
      "source": [
        "X_val['TENURE'] = encoder.transform(X_val[\"TENURE\"])"
      ],
      "execution_count": null,
      "outputs": []
    },
    {
      "cell_type": "code",
      "metadata": {
        "id": "511Er1dyQgVI",
        "colab_type": "code",
        "colab": {}
      },
      "source": [
        "test['TENURE'] = encoder.transform(test[\"TENURE\"])"
      ],
      "execution_count": null,
      "outputs": []
    },
    {
      "cell_type": "code",
      "metadata": {
        "id": "9Ei9m-duQgVK",
        "colab_type": "code",
        "colab": {},
        "outputId": "e23f65ce-f53e-4d7f-961c-86854643702d"
      },
      "source": [
        "X_train.head()"
      ],
      "execution_count": null,
      "outputs": [
        {
          "output_type": "execute_result",
          "data": {
            "text/html": [
              "<div>\n",
              "<style scoped>\n",
              "    .dataframe tbody tr th:only-of-type {\n",
              "        vertical-align: middle;\n",
              "    }\n",
              "\n",
              "    .dataframe tbody tr th {\n",
              "        vertical-align: top;\n",
              "    }\n",
              "\n",
              "    .dataframe thead th {\n",
              "        text-align: right;\n",
              "    }\n",
              "</style>\n",
              "<table border=\"1\" class=\"dataframe\">\n",
              "  <thead>\n",
              "    <tr style=\"text-align: right;\">\n",
              "      <th></th>\n",
              "      <th>TENURE</th>\n",
              "      <th>MONTANT</th>\n",
              "      <th>FREQUENCE_RECH</th>\n",
              "      <th>REVENUE</th>\n",
              "      <th>ARPU_SEGMENT</th>\n",
              "      <th>FREQUENCE</th>\n",
              "      <th>DATA_VOLUME</th>\n",
              "      <th>ON_NET</th>\n",
              "      <th>ORANGE</th>\n",
              "      <th>TIGO</th>\n",
              "      <th>ZONE1</th>\n",
              "      <th>ZONE2</th>\n",
              "      <th>REGULARITY</th>\n",
              "      <th>FREQ_TOP_PACK</th>\n",
              "    </tr>\n",
              "  </thead>\n",
              "  <tbody>\n",
              "    <tr>\n",
              "      <th>829510</th>\n",
              "      <td>7</td>\n",
              "      <td>-0.775034</td>\n",
              "      <td>-0.611459</td>\n",
              "      <td>-0.755022</td>\n",
              "      <td>-0.754855</td>\n",
              "      <td>-0.750871</td>\n",
              "      <td>-0.358105</td>\n",
              "      <td>-0.370788</td>\n",
              "      <td>-0.495765</td>\n",
              "      <td>-0.583063</td>\n",
              "      <td>-0.678894</td>\n",
              "      <td>-0.000554</td>\n",
              "      <td>1.522906</td>\n",
              "      <td>-0.779625</td>\n",
              "    </tr>\n",
              "    <tr>\n",
              "      <th>693020</th>\n",
              "      <td>7</td>\n",
              "      <td>0.000360</td>\n",
              "      <td>0.000902</td>\n",
              "      <td>0.000552</td>\n",
              "      <td>0.000552</td>\n",
              "      <td>0.000907</td>\n",
              "      <td>0.000157</td>\n",
              "      <td>0.000446</td>\n",
              "      <td>-0.000412</td>\n",
              "      <td>0.001901</td>\n",
              "      <td>0.001059</td>\n",
              "      <td>-0.000554</td>\n",
              "      <td>-0.989467</td>\n",
              "      <td>0.001192</td>\n",
              "    </tr>\n",
              "    <tr>\n",
              "      <th>1177807</th>\n",
              "      <td>7</td>\n",
              "      <td>0.000360</td>\n",
              "      <td>0.000902</td>\n",
              "      <td>-0.924952</td>\n",
              "      <td>-0.924957</td>\n",
              "      <td>-1.085808</td>\n",
              "      <td>0.000157</td>\n",
              "      <td>0.000446</td>\n",
              "      <td>-0.000412</td>\n",
              "      <td>0.001901</td>\n",
              "      <td>0.001059</td>\n",
              "      <td>-0.000554</td>\n",
              "      <td>-1.213786</td>\n",
              "      <td>0.001192</td>\n",
              "    </tr>\n",
              "    <tr>\n",
              "      <th>40576</th>\n",
              "      <td>7</td>\n",
              "      <td>0.000360</td>\n",
              "      <td>0.000902</td>\n",
              "      <td>0.000552</td>\n",
              "      <td>0.000552</td>\n",
              "      <td>0.000907</td>\n",
              "      <td>-0.357998</td>\n",
              "      <td>0.000446</td>\n",
              "      <td>-0.000412</td>\n",
              "      <td>0.001901</td>\n",
              "      <td>0.001059</td>\n",
              "      <td>-0.000554</td>\n",
              "      <td>-0.451101</td>\n",
              "      <td>0.001192</td>\n",
              "    </tr>\n",
              "    <tr>\n",
              "      <th>1023530</th>\n",
              "      <td>7</td>\n",
              "      <td>-0.783781</td>\n",
              "      <td>-0.892827</td>\n",
              "      <td>-0.862770</td>\n",
              "      <td>-0.862774</td>\n",
              "      <td>-0.750871</td>\n",
              "      <td>-0.230932</td>\n",
              "      <td>-0.399600</td>\n",
              "      <td>-0.534155</td>\n",
              "      <td>0.001901</td>\n",
              "      <td>0.001059</td>\n",
              "      <td>-0.000554</td>\n",
              "      <td>-0.989467</td>\n",
              "      <td>-0.886992</td>\n",
              "    </tr>\n",
              "  </tbody>\n",
              "</table>\n",
              "</div>"
            ],
            "text/plain": [
              "         TENURE   MONTANT  FREQUENCE_RECH   REVENUE  ARPU_SEGMENT  FREQUENCE  \\\n",
              "829510        7 -0.775034       -0.611459 -0.755022     -0.754855  -0.750871   \n",
              "693020        7  0.000360        0.000902  0.000552      0.000552   0.000907   \n",
              "1177807       7  0.000360        0.000902 -0.924952     -0.924957  -1.085808   \n",
              "40576         7  0.000360        0.000902  0.000552      0.000552   0.000907   \n",
              "1023530       7 -0.783781       -0.892827 -0.862770     -0.862774  -0.750871   \n",
              "\n",
              "         DATA_VOLUME    ON_NET    ORANGE      TIGO     ZONE1     ZONE2  \\\n",
              "829510     -0.358105 -0.370788 -0.495765 -0.583063 -0.678894 -0.000554   \n",
              "693020      0.000157  0.000446 -0.000412  0.001901  0.001059 -0.000554   \n",
              "1177807     0.000157  0.000446 -0.000412  0.001901  0.001059 -0.000554   \n",
              "40576      -0.357998  0.000446 -0.000412  0.001901  0.001059 -0.000554   \n",
              "1023530    -0.230932 -0.399600 -0.534155  0.001901  0.001059 -0.000554   \n",
              "\n",
              "         REGULARITY  FREQ_TOP_PACK  \n",
              "829510     1.522906      -0.779625  \n",
              "693020    -0.989467       0.001192  \n",
              "1177807   -1.213786       0.001192  \n",
              "40576     -0.451101       0.001192  \n",
              "1023530   -0.989467      -0.886992  "
            ]
          },
          "metadata": {
            "tags": []
          },
          "execution_count": 230
        }
      ]
    },
    {
      "cell_type": "code",
      "metadata": {
        "id": "LUvvtJjrQgVO",
        "colab_type": "code",
        "colab": {}
      },
      "source": [
        "##RandomForestClassifier Model"
      ],
      "execution_count": null,
      "outputs": []
    },
    {
      "cell_type": "code",
      "metadata": {
        "id": "81Q_zr4fQgVR",
        "colab_type": "code",
        "colab": {}
      },
      "source": [
        "# #rand = RandomForestClassifier(bootstrap=True,criterion = \"gini\",\n",
        "#                               n_jobs=-1,\n",
        "#                               max_depth=7,\n",
        "#                               n_estimators=200,\n",
        "#                               random_state=1,\n",
        "#                              verbose=True)"
      ],
      "execution_count": null,
      "outputs": []
    },
    {
      "cell_type": "code",
      "metadata": {
        "id": "xG2GnyWLQgVU",
        "colab_type": "code",
        "colab": {}
      },
      "source": [
        "import xgboost as xgb\n",
        "from xgboost.sklearn import XGBClassifier"
      ],
      "execution_count": null,
      "outputs": []
    },
    {
      "cell_type": "code",
      "metadata": {
        "id": "Xun7BOMkQgVk",
        "colab_type": "code",
        "colab": {}
      },
      "source": [
        "# xgb_model = xgb.XGBClassifier(objective=\"binary:logistic\", random_state=42)\n",
        "\n",
        "\n",
        "xgb_model = XGBClassifier(\n",
        " learning_rate =0.1,\n",
        " n_estimators=1000,\n",
        " max_depth=5,\n",
        " min_child_weight=1,\n",
        " gamma=0,\n",
        " subsample=0.8,\n",
        " colsample_bytree=0.8,\n",
        " objective= 'binary:logistic',\n",
        " nthread=4,\n",
        " scale_pos_weight=1,\n",
        " seed=42)\n"
      ],
      "execution_count": null,
      "outputs": []
    },
    {
      "cell_type": "code",
      "metadata": {
        "id": "daQhMSUDQgVn",
        "colab_type": "code",
        "colab": {}
      },
      "source": [
        "Xgbmodel = xgb_model.fit(X_train, y_train)"
      ],
      "execution_count": null,
      "outputs": []
    },
    {
      "cell_type": "code",
      "metadata": {
        "id": "CxEfeMLJQgVp",
        "colab_type": "code",
        "colab": {}
      },
      "source": [
        "xgbpred = Xgbmodel .predict_proba(test)"
      ],
      "execution_count": null,
      "outputs": []
    },
    {
      "cell_type": "code",
      "metadata": {
        "id": "IWEO9i7XQgVs",
        "colab_type": "code",
        "colab": {}
      },
      "source": [
        "#Fit model on data\n",
        "# randmodel = rand.fit(X_train,y_train)"
      ],
      "execution_count": null,
      "outputs": []
    },
    {
      "cell_type": "code",
      "metadata": {
        "id": "OKlXLycbQgVu",
        "colab_type": "code",
        "colab": {},
        "outputId": "154b943a-bf87-4e54-9368-6ad62988a02a"
      },
      "source": [
        "xgbpred "
      ],
      "execution_count": null,
      "outputs": [
        {
          "output_type": "execute_result",
          "data": {
            "text/plain": [
              "array([[0.9781982 , 0.02180181],\n",
              "       [0.9795355 , 0.02046445],\n",
              "       [0.9935116 , 0.00648836],\n",
              "       ...,\n",
              "       [0.8968761 , 0.10312392],\n",
              "       [0.9417784 , 0.05822159],\n",
              "       [0.76951337, 0.23048666]], dtype=float32)"
            ]
          },
          "metadata": {
            "tags": []
          },
          "execution_count": 283
        }
      ]
    },
    {
      "cell_type": "code",
      "metadata": {
        "id": "AfdelGDPQgVx",
        "colab_type": "code",
        "colab": {}
      },
      "source": [
        "indx = list(np.argmax(xgbpred, axis = 1))\n",
        "submission = []\n",
        "\n",
        "for i in range(len(indx)):\n",
        "    submission.append(1-(xgbpred[i, indx[i]]))"
      ],
      "execution_count": null,
      "outputs": []
    },
    {
      "cell_type": "code",
      "metadata": {
        "id": "u4D-zPj8QgV0",
        "colab_type": "code",
        "colab": {}
      },
      "source": [
        "pred = np.array(submission)"
      ],
      "execution_count": null,
      "outputs": []
    },
    {
      "cell_type": "code",
      "metadata": {
        "id": "BULxOKoMQgV2",
        "colab_type": "code",
        "colab": {}
      },
      "source": [
        ""
      ],
      "execution_count": null,
      "outputs": []
    },
    {
      "cell_type": "code",
      "metadata": {
        "id": "iaZ9rvEdQgV5",
        "colab_type": "code",
        "colab": {},
        "outputId": "4c0a15a6-c357-450f-f5d6-98339171e860"
      },
      "source": [
        "#Predict on the X_test data \n",
        "# randpred = randmodel.predict(X_test)"
      ],
      "execution_count": null,
      "outputs": [
        {
          "output_type": "stream",
          "text": [
            "[Parallel(n_jobs=8)]: Using backend ThreadingBackend with 8 concurrent workers.\n",
            "[Parallel(n_jobs=8)]: Done  34 tasks      | elapsed:    0.8s\n",
            "[Parallel(n_jobs=8)]: Done 184 tasks      | elapsed:    4.1s\n",
            "[Parallel(n_jobs=8)]: Done 200 out of 200 | elapsed:    4.3s finished\n"
          ],
          "name": "stderr"
        }
      ]
    },
    {
      "cell_type": "code",
      "metadata": {
        "id": "eju4UT4WQgV8",
        "colab_type": "code",
        "colab": {}
      },
      "source": [
        "# print(\"Acuracy\")\n",
        "# accuracy_score(y_test, randpred)"
      ],
      "execution_count": null,
      "outputs": []
    },
    {
      "cell_type": "code",
      "metadata": {
        "id": "SbIkB7TPQgWE",
        "colab_type": "code",
        "colab": {},
        "outputId": "199591cb-06c4-4222-807d-e4f486fa8d63"
      },
      "source": [
        "print(\"Acuracy\")\n",
        "# accuracy_score(y_test, xgbpred )"
      ],
      "execution_count": null,
      "outputs": [
        {
          "output_type": "stream",
          "text": [
            "Acuracy\n"
          ],
          "name": "stdout"
        }
      ]
    },
    {
      "cell_type": "code",
      "metadata": {
        "id": "vyWg7hVIQgWG",
        "colab_type": "code",
        "colab": {},
        "outputId": "51fe9efc-1b1a-4dcc-9d1e-eb3a4f18ad22"
      },
      "source": [
        "print(\"Recall\")\n",
        "recall_score(y_test, xgbpred )"
      ],
      "execution_count": null,
      "outputs": [
        {
          "output_type": "stream",
          "text": [
            "Recall\n"
          ],
          "name": "stdout"
        },
        {
          "output_type": "execute_result",
          "data": {
            "text/plain": [
              "0.5624891542012286"
            ]
          },
          "metadata": {
            "tags": []
          },
          "execution_count": 250
        }
      ]
    },
    {
      "cell_type": "code",
      "metadata": {
        "id": "hj5xeLumQgWJ",
        "colab_type": "code",
        "colab": {},
        "outputId": "f8a17046-4203-4588-c985-34c11e4c5d15"
      },
      "source": [
        "print(\"F1 Score\")\n",
        "f1_score(y_test, xgbpred )"
      ],
      "execution_count": null,
      "outputs": [
        {
          "output_type": "stream",
          "text": [
            "F1 Score\n"
          ],
          "name": "stdout"
        },
        {
          "output_type": "execute_result",
          "data": {
            "text/plain": [
              "0.6084769170946245"
            ]
          },
          "metadata": {
            "tags": []
          },
          "execution_count": 251
        }
      ]
    },
    {
      "cell_type": "code",
      "metadata": {
        "id": "gxUpEvjiQgWM",
        "colab_type": "code",
        "colab": {},
        "outputId": "25ae129d-57b3-45e6-9197-ead5e4cb9ffd"
      },
      "source": [
        "confusion_matrix(y_test, xgbpred )"
      ],
      "execution_count": null,
      "outputs": [
        {
          "output_type": "execute_result",
          "data": {
            "text/plain": [
              "array([[817578,  57755],\n",
              "       [ 88242, 113449]])"
            ]
          },
          "metadata": {
            "tags": []
          },
          "execution_count": 252
        }
      ]
    },
    {
      "cell_type": "code",
      "metadata": {
        "id": "Ncem3jm5QgWO",
        "colab_type": "code",
        "colab": {}
      },
      "source": [
        "# Making a submissio"
      ],
      "execution_count": null,
      "outputs": []
    },
    {
      "cell_type": "code",
      "metadata": {
        "id": "mgaiAlROQgWR",
        "colab_type": "code",
        "colab": {},
        "outputId": "09fca893-b162-487f-c26d-44c9b44581c0"
      },
      "source": [
        "submission.head()"
      ],
      "execution_count": null,
      "outputs": [
        {
          "output_type": "execute_result",
          "data": {
            "text/html": [
              "<div>\n",
              "<style scoped>\n",
              "    .dataframe tbody tr th:only-of-type {\n",
              "        vertical-align: middle;\n",
              "    }\n",
              "\n",
              "    .dataframe tbody tr th {\n",
              "        vertical-align: top;\n",
              "    }\n",
              "\n",
              "    .dataframe thead th {\n",
              "        text-align: right;\n",
              "    }\n",
              "</style>\n",
              "<table border=\"1\" class=\"dataframe\">\n",
              "  <thead>\n",
              "    <tr style=\"text-align: right;\">\n",
              "      <th></th>\n",
              "      <th>user_id</th>\n",
              "      <th>CHURN</th>\n",
              "    </tr>\n",
              "  </thead>\n",
              "  <tbody>\n",
              "    <tr>\n",
              "      <th>0</th>\n",
              "      <td>00001dbe00e56fc4b1c1b65dda63de2a5ece55f9</td>\n",
              "      <td>0</td>\n",
              "    </tr>\n",
              "    <tr>\n",
              "      <th>1</th>\n",
              "      <td>000055d41c8a62052dd426592e8a4a3342bf565d</td>\n",
              "      <td>0</td>\n",
              "    </tr>\n",
              "    <tr>\n",
              "      <th>2</th>\n",
              "      <td>000081dd3245e6869a4a9c574c7050e7bb84c2c8</td>\n",
              "      <td>0</td>\n",
              "    </tr>\n",
              "    <tr>\n",
              "      <th>3</th>\n",
              "      <td>0000b76d2145d9445d9ff6b65c9ebc4196c89337</td>\n",
              "      <td>0</td>\n",
              "    </tr>\n",
              "    <tr>\n",
              "      <th>4</th>\n",
              "      <td>0000bae5480628cf8fe51ad84bcb39772fc79224</td>\n",
              "      <td>0</td>\n",
              "    </tr>\n",
              "  </tbody>\n",
              "</table>\n",
              "</div>"
            ],
            "text/plain": [
              "                                    user_id  CHURN\n",
              "0  00001dbe00e56fc4b1c1b65dda63de2a5ece55f9      0\n",
              "1  000055d41c8a62052dd426592e8a4a3342bf565d      0\n",
              "2  000081dd3245e6869a4a9c574c7050e7bb84c2c8      0\n",
              "3  0000b76d2145d9445d9ff6b65c9ebc4196c89337      0\n",
              "4  0000bae5480628cf8fe51ad84bcb39772fc79224      0"
            ]
          },
          "metadata": {
            "tags": []
          },
          "execution_count": 242
        }
      ]
    },
    {
      "cell_type": "code",
      "metadata": {
        "id": "5Ibd0tSKQgWU",
        "colab_type": "code",
        "colab": {},
        "outputId": "add589fd-dcf2-4b9a-bdaf-8904bca75974"
      },
      "source": [
        "test.head()"
      ],
      "execution_count": null,
      "outputs": [
        {
          "output_type": "execute_result",
          "data": {
            "text/html": [
              "<div>\n",
              "<style scoped>\n",
              "    .dataframe tbody tr th:only-of-type {\n",
              "        vertical-align: middle;\n",
              "    }\n",
              "\n",
              "    .dataframe tbody tr th {\n",
              "        vertical-align: top;\n",
              "    }\n",
              "\n",
              "    .dataframe thead th {\n",
              "        text-align: right;\n",
              "    }\n",
              "</style>\n",
              "<table border=\"1\" class=\"dataframe\">\n",
              "  <thead>\n",
              "    <tr style=\"text-align: right;\">\n",
              "      <th></th>\n",
              "      <th>TENURE</th>\n",
              "      <th>MONTANT</th>\n",
              "      <th>FREQUENCE_RECH</th>\n",
              "      <th>REVENUE</th>\n",
              "      <th>ARPU_SEGMENT</th>\n",
              "      <th>FREQUENCE</th>\n",
              "      <th>DATA_VOLUME</th>\n",
              "      <th>ON_NET</th>\n",
              "      <th>ORANGE</th>\n",
              "      <th>TIGO</th>\n",
              "      <th>ZONE1</th>\n",
              "      <th>ZONE2</th>\n",
              "      <th>REGULARITY</th>\n",
              "      <th>FREQ_TOP_PACK</th>\n",
              "    </tr>\n",
              "  </thead>\n",
              "  <tbody>\n",
              "    <tr>\n",
              "      <th>0</th>\n",
              "      <td>7</td>\n",
              "      <td>-0.092733</td>\n",
              "      <td>-0.611459</td>\n",
              "      <td>-0.086950</td>\n",
              "      <td>-0.086782</td>\n",
              "      <td>-0.750871</td>\n",
              "      <td>-0.002009</td>\n",
              "      <td>0.144956</td>\n",
              "      <td>-0.540553</td>\n",
              "      <td>-0.456498</td>\n",
              "      <td>0.00054</td>\n",
              "      <td>0.011407</td>\n",
              "      <td>0.625630</td>\n",
              "      <td>-0.457526</td>\n",
              "    </tr>\n",
              "    <tr>\n",
              "      <th>1</th>\n",
              "      <td>5</td>\n",
              "      <td>-0.914993</td>\n",
              "      <td>-0.892827</td>\n",
              "      <td>-0.887609</td>\n",
              "      <td>-0.887442</td>\n",
              "      <td>-0.918340</td>\n",
              "      <td>-0.315856</td>\n",
              "      <td>0.002055</td>\n",
              "      <td>-0.610935</td>\n",
              "      <td>0.000454</td>\n",
              "      <td>0.00054</td>\n",
              "      <td>0.011407</td>\n",
              "      <td>0.580766</td>\n",
              "      <td>-0.886992</td>\n",
              "    </tr>\n",
              "    <tr>\n",
              "      <th>2</th>\n",
              "      <td>7</td>\n",
              "      <td>-0.390146</td>\n",
              "      <td>1.264326</td>\n",
              "      <td>-0.361031</td>\n",
              "      <td>-0.361206</td>\n",
              "      <td>1.007548</td>\n",
              "      <td>0.402807</td>\n",
              "      <td>-0.399600</td>\n",
              "      <td>-0.598139</td>\n",
              "      <td>-0.456498</td>\n",
              "      <td>0.00054</td>\n",
              "      <td>0.011407</td>\n",
              "      <td>1.298587</td>\n",
              "      <td>1.367700</td>\n",
              "    </tr>\n",
              "    <tr>\n",
              "      <th>3</th>\n",
              "      <td>7</td>\n",
              "      <td>-0.000892</td>\n",
              "      <td>0.000033</td>\n",
              "      <td>-0.001355</td>\n",
              "      <td>-0.001355</td>\n",
              "      <td>-0.000783</td>\n",
              "      <td>-0.002009</td>\n",
              "      <td>0.002055</td>\n",
              "      <td>-0.001856</td>\n",
              "      <td>0.000454</td>\n",
              "      <td>0.00054</td>\n",
              "      <td>0.011407</td>\n",
              "      <td>-0.854876</td>\n",
              "      <td>0.000024</td>\n",
              "    </tr>\n",
              "    <tr>\n",
              "      <th>4</th>\n",
              "      <td>7</td>\n",
              "      <td>-0.000892</td>\n",
              "      <td>0.000033</td>\n",
              "      <td>-0.001355</td>\n",
              "      <td>-0.001355</td>\n",
              "      <td>-0.000783</td>\n",
              "      <td>-0.002009</td>\n",
              "      <td>0.002055</td>\n",
              "      <td>-0.001856</td>\n",
              "      <td>0.000454</td>\n",
              "      <td>0.00054</td>\n",
              "      <td>0.011407</td>\n",
              "      <td>-0.810012</td>\n",
              "      <td>0.000024</td>\n",
              "    </tr>\n",
              "  </tbody>\n",
              "</table>\n",
              "</div>"
            ],
            "text/plain": [
              "   TENURE   MONTANT  FREQUENCE_RECH   REVENUE  ARPU_SEGMENT  FREQUENCE  \\\n",
              "0       7 -0.092733       -0.611459 -0.086950     -0.086782  -0.750871   \n",
              "1       5 -0.914993       -0.892827 -0.887609     -0.887442  -0.918340   \n",
              "2       7 -0.390146        1.264326 -0.361031     -0.361206   1.007548   \n",
              "3       7 -0.000892        0.000033 -0.001355     -0.001355  -0.000783   \n",
              "4       7 -0.000892        0.000033 -0.001355     -0.001355  -0.000783   \n",
              "\n",
              "   DATA_VOLUME    ON_NET    ORANGE      TIGO    ZONE1     ZONE2  REGULARITY  \\\n",
              "0    -0.002009  0.144956 -0.540553 -0.456498  0.00054  0.011407    0.625630   \n",
              "1    -0.315856  0.002055 -0.610935  0.000454  0.00054  0.011407    0.580766   \n",
              "2     0.402807 -0.399600 -0.598139 -0.456498  0.00054  0.011407    1.298587   \n",
              "3    -0.002009  0.002055 -0.001856  0.000454  0.00054  0.011407   -0.854876   \n",
              "4    -0.002009  0.002055 -0.001856  0.000454  0.00054  0.011407   -0.810012   \n",
              "\n",
              "   FREQ_TOP_PACK  \n",
              "0      -0.457526  \n",
              "1      -0.886992  \n",
              "2       1.367700  \n",
              "3       0.000024  \n",
              "4       0.000024  "
            ]
          },
          "metadata": {
            "tags": []
          },
          "execution_count": 243
        }
      ]
    },
    {
      "cell_type": "code",
      "metadata": {
        "id": "uac0Y3plQgWW",
        "colab_type": "code",
        "colab": {}
      },
      "source": [
        "subpred = Xgbmodel.predict(test)"
      ],
      "execution_count": null,
      "outputs": []
    },
    {
      "cell_type": "code",
      "metadata": {
        "id": "zOIVMBAvQgWb",
        "colab_type": "code",
        "colab": {},
        "outputId": "b5b1fc41-798a-4d0b-c4ec-876e6634eb17"
      },
      "source": [
        "type(subpred)"
      ],
      "execution_count": null,
      "outputs": [
        {
          "output_type": "execute_result",
          "data": {
            "text/plain": [
              "numpy.ndarray"
            ]
          },
          "metadata": {
            "tags": []
          },
          "execution_count": 289
        }
      ]
    },
    {
      "cell_type": "code",
      "metadata": {
        "id": "kh9MYKdKQgWf",
        "colab_type": "code",
        "colab": {},
        "outputId": "5ce203d5-bc6e-47cd-acdd-f55b78267df6"
      },
      "source": [
        "type(pred)"
      ],
      "execution_count": null,
      "outputs": [
        {
          "output_type": "execute_result",
          "data": {
            "text/plain": [
              "numpy.ndarray"
            ]
          },
          "metadata": {
            "tags": []
          },
          "execution_count": 290
        }
      ]
    },
    {
      "cell_type": "code",
      "metadata": {
        "id": "GNHu5HvYQgWh",
        "colab_type": "code",
        "colab": {},
        "outputId": "114d50f9-7973-4c5d-a67f-3d009f986537"
      },
      "source": [
        "np.sum(subpred==1)"
      ],
      "execution_count": null,
      "outputs": [
        {
          "output_type": "execute_result",
          "data": {
            "text/plain": [
              "61018"
            ]
          },
          "metadata": {
            "tags": []
          },
          "execution_count": 254
        }
      ]
    },
    {
      "cell_type": "code",
      "metadata": {
        "id": "DM-nMosVQgWk",
        "colab_type": "code",
        "colab": {}
      },
      "source": [
        "submission[\"CHURN\"] = pred"
      ],
      "execution_count": null,
      "outputs": []
    },
    {
      "cell_type": "code",
      "metadata": {
        "id": "06X_I_iSQgWn",
        "colab_type": "code",
        "colab": {},
        "outputId": "f7ea7759-5bb7-469e-a09b-b48abae268ce"
      },
      "source": [
        "submission.head()"
      ],
      "execution_count": null,
      "outputs": [
        {
          "output_type": "execute_result",
          "data": {
            "text/html": [
              "<div>\n",
              "<style scoped>\n",
              "    .dataframe tbody tr th:only-of-type {\n",
              "        vertical-align: middle;\n",
              "    }\n",
              "\n",
              "    .dataframe tbody tr th {\n",
              "        vertical-align: top;\n",
              "    }\n",
              "\n",
              "    .dataframe thead th {\n",
              "        text-align: right;\n",
              "    }\n",
              "</style>\n",
              "<table border=\"1\" class=\"dataframe\">\n",
              "  <thead>\n",
              "    <tr style=\"text-align: right;\">\n",
              "      <th></th>\n",
              "      <th>user_id</th>\n",
              "      <th>CHURN</th>\n",
              "    </tr>\n",
              "  </thead>\n",
              "  <tbody>\n",
              "    <tr>\n",
              "      <th>0</th>\n",
              "      <td>00001dbe00e56fc4b1c1b65dda63de2a5ece55f9</td>\n",
              "      <td>0.021802</td>\n",
              "    </tr>\n",
              "    <tr>\n",
              "      <th>1</th>\n",
              "      <td>000055d41c8a62052dd426592e8a4a3342bf565d</td>\n",
              "      <td>0.020464</td>\n",
              "    </tr>\n",
              "    <tr>\n",
              "      <th>2</th>\n",
              "      <td>000081dd3245e6869a4a9c574c7050e7bb84c2c8</td>\n",
              "      <td>0.006488</td>\n",
              "    </tr>\n",
              "    <tr>\n",
              "      <th>3</th>\n",
              "      <td>0000b76d2145d9445d9ff6b65c9ebc4196c89337</td>\n",
              "      <td>0.199253</td>\n",
              "    </tr>\n",
              "    <tr>\n",
              "      <th>4</th>\n",
              "      <td>0000bae5480628cf8fe51ad84bcb39772fc79224</td>\n",
              "      <td>0.188278</td>\n",
              "    </tr>\n",
              "  </tbody>\n",
              "</table>\n",
              "</div>"
            ],
            "text/plain": [
              "                                    user_id     CHURN\n",
              "0  00001dbe00e56fc4b1c1b65dda63de2a5ece55f9  0.021802\n",
              "1  000055d41c8a62052dd426592e8a4a3342bf565d  0.020464\n",
              "2  000081dd3245e6869a4a9c574c7050e7bb84c2c8  0.006488\n",
              "3  0000b76d2145d9445d9ff6b65c9ebc4196c89337  0.199253\n",
              "4  0000bae5480628cf8fe51ad84bcb39772fc79224  0.188278"
            ]
          },
          "metadata": {
            "tags": []
          },
          "execution_count": 295
        }
      ]
    },
    {
      "cell_type": "code",
      "metadata": {
        "id": "UDudQ86tQgWq",
        "colab_type": "code",
        "colab": {}
      },
      "source": [
        "submission.to_csv('submission_xgb_prob.csv', index=False)"
      ],
      "execution_count": null,
      "outputs": []
    },
    {
      "cell_type": "code",
      "metadata": {
        "id": "wkVBPEJjQgWr",
        "colab_type": "code",
        "colab": {}
      },
      "source": [
        "# 1. Do more feature engineering\n",
        "# 2. Handle the imbalance nature of the predictor class \n",
        "# 3. Use other algorithms\n",
        "# 4. Tune hyperparameters of this model\n",
        "# 5. Handle missing values properly\n",
        "# 6. Any other thing you feel can improve the performance of the model is good to go\n"
      ],
      "execution_count": null,
      "outputs": []
    },
    {
      "cell_type": "code",
      "metadata": {
        "id": "rAcjmDCGQgWt",
        "colab_type": "code",
        "colab": {}
      },
      "source": [
        "## cross validation\n",
        "from sklearn.model_selection import KFold\n",
        "kfold=KFold(n_splits=5,shuffle=True,random_state=7)\n",
        "error = []\n",
        "\n",
        "kernel = 'linear'\n",
        "sigma = 1.\n",
        "C = 100.\n",
        "\n",
        "for i, (train_index, validate_index) in enumerate(kfold.split(train)):\n",
        "            X_train, y_train = train[train_index], y[train_index]\n",
        "            X_valid, y_valid = train[validate_index], y[validate_index]\n",
        "            model = KernelSVM(C=C, kernel=kernel, sigma=sigma)\n",
        "            y_pred = model.fit(X_train, y_train).predict(X_valid)\n",
        "            #model.error(y_pred, y_valid)\n",
        "            error.append(model.error(y_pred, y_valid))\n",
        "            #print(y_valid)\n",
        "            print(f'error fold {i}: {error[i]}')\n",
        "        \n",
        "print(f'\\nAverage accuracy is : {np.mean(error)}\\n')"
      ],
      "execution_count": null,
      "outputs": []
    },
    {
      "cell_type": "markdown",
      "metadata": {
        "id": "ITXs8-WQQgWw",
        "colab_type": "text"
      },
      "source": [
        "### Good Luck !!!"
      ]
    }
  ]
}